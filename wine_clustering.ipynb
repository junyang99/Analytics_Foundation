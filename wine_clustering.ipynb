{
 "cells": [
  {
   "cell_type": "markdown",
   "metadata": {},
   "source": [
    "<table class=\"table table-bordered\">\n",
    "    <tr>\n",
    "        <th style=\"text-align:center; width:30%\"><img src='https://drive.google.com/uc?export=view&id=1iEILhi-REsl4vk6cfd7yhNiTrAB-RVat' style=\"width: 100px; height: 80px; \"></th>\n",
    "        <th style=\"text-align:center;\"><h3>ANLY104 - Clustering</h3><h3>Wine Dataset Case Study</h3><h4>Solutions</h4></th>\n",
    "    </tr>\n",
    "</table>"
   ]
  },
  {
   "cell_type": "markdown",
   "metadata": {},
   "source": [
    "**About the Data :** <br>\n",
    "This is a dataset containing chemical properties of different types of wines. The columns contain the quantities of 13 chemical constituents found in wines. More details here - https://archive.ics.uci.edu/ml/datasets/Wine <br>\n",
    "<br>\n",
    "\n",
    "**Analytic Questions:**<br>\n",
    "The following two questions will be investigated:\n",
    "\n",
    "- Is it possible to predict the Cultivar of a wine by analyzing its chemical features?\n",
    "- Which chemical features are more strongly related to a wine’s Cultivar?"
   ]
  },
  {
   "cell_type": "markdown",
   "metadata": {},
   "source": [
    "This notebook covers the following : <br>\n",
    "1. Reading wines dataset and performing EDA\n",
    "2. Assessing based on EDA and Data Preparation\n",
    "3. Determining suitable k for clustering using Elbow method\n",
    "4. Applying k-means with suitable k and assigning cluster labels\n",
    "5. Clusters profiling - Centroid method\n",
    "    - Directly plot the cluster centroids as given by the model\n",
    "    - Alternatively groupby clusters to determine centers\n"
   ]
  },
  {
   "cell_type": "code",
   "execution_count": 2,
   "metadata": {},
   "outputs": [],
   "source": [
    "# Import libraries\n",
    "import pandas as pd\n",
    "import matplotlib.pyplot as plt\n",
    "import numpy as np\n",
    "import seaborn as sns"
   ]
  },
  {
   "cell_type": "markdown",
   "metadata": {},
   "source": [
    "### 1. Reading the data and basic EDA"
   ]
  },
  {
   "cell_type": "code",
   "execution_count": 3,
   "metadata": {
    "scrolled": true
   },
   "outputs": [],
   "source": [
    "# Read CSV file\n",
    "wines = pd.read_csv('wine.csv')"
   ]
  },
  {
   "cell_type": "code",
   "execution_count": 4,
   "metadata": {},
   "outputs": [
    {
     "data": {
      "text/html": [
       "<div>\n",
       "<style scoped>\n",
       "    .dataframe tbody tr th:only-of-type {\n",
       "        vertical-align: middle;\n",
       "    }\n",
       "\n",
       "    .dataframe tbody tr th {\n",
       "        vertical-align: top;\n",
       "    }\n",
       "\n",
       "    .dataframe thead th {\n",
       "        text-align: right;\n",
       "    }\n",
       "</style>\n",
       "<table border=\"1\" class=\"dataframe\">\n",
       "  <thead>\n",
       "    <tr style=\"text-align: right;\">\n",
       "      <th></th>\n",
       "      <th>Alcohol</th>\n",
       "      <th>Malic.acid</th>\n",
       "      <th>Ash</th>\n",
       "      <th>Acl</th>\n",
       "      <th>Mg</th>\n",
       "      <th>Phenols</th>\n",
       "      <th>Flavanoids</th>\n",
       "      <th>Nonflavanoid.phenols</th>\n",
       "      <th>Proanth</th>\n",
       "      <th>Color.int</th>\n",
       "      <th>Hue</th>\n",
       "      <th>OD</th>\n",
       "      <th>Proline</th>\n",
       "    </tr>\n",
       "  </thead>\n",
       "  <tbody>\n",
       "    <tr>\n",
       "      <th>0</th>\n",
       "      <td>14.23</td>\n",
       "      <td>1.71</td>\n",
       "      <td>2.43</td>\n",
       "      <td>15.6</td>\n",
       "      <td>127</td>\n",
       "      <td>2.80</td>\n",
       "      <td>3.06</td>\n",
       "      <td>0.28</td>\n",
       "      <td>2.29</td>\n",
       "      <td>5.64</td>\n",
       "      <td>1.04</td>\n",
       "      <td>3.92</td>\n",
       "      <td>1065</td>\n",
       "    </tr>\n",
       "    <tr>\n",
       "      <th>1</th>\n",
       "      <td>13.20</td>\n",
       "      <td>1.78</td>\n",
       "      <td>2.14</td>\n",
       "      <td>11.2</td>\n",
       "      <td>100</td>\n",
       "      <td>2.65</td>\n",
       "      <td>2.76</td>\n",
       "      <td>0.26</td>\n",
       "      <td>1.28</td>\n",
       "      <td>4.38</td>\n",
       "      <td>1.05</td>\n",
       "      <td>3.40</td>\n",
       "      <td>1050</td>\n",
       "    </tr>\n",
       "    <tr>\n",
       "      <th>2</th>\n",
       "      <td>13.16</td>\n",
       "      <td>2.36</td>\n",
       "      <td>2.67</td>\n",
       "      <td>18.6</td>\n",
       "      <td>101</td>\n",
       "      <td>2.80</td>\n",
       "      <td>3.24</td>\n",
       "      <td>0.30</td>\n",
       "      <td>2.81</td>\n",
       "      <td>5.68</td>\n",
       "      <td>1.03</td>\n",
       "      <td>3.17</td>\n",
       "      <td>1185</td>\n",
       "    </tr>\n",
       "    <tr>\n",
       "      <th>3</th>\n",
       "      <td>14.37</td>\n",
       "      <td>1.95</td>\n",
       "      <td>2.50</td>\n",
       "      <td>16.8</td>\n",
       "      <td>113</td>\n",
       "      <td>3.85</td>\n",
       "      <td>3.49</td>\n",
       "      <td>0.24</td>\n",
       "      <td>2.18</td>\n",
       "      <td>7.80</td>\n",
       "      <td>0.86</td>\n",
       "      <td>3.45</td>\n",
       "      <td>1480</td>\n",
       "    </tr>\n",
       "    <tr>\n",
       "      <th>4</th>\n",
       "      <td>13.24</td>\n",
       "      <td>2.59</td>\n",
       "      <td>2.87</td>\n",
       "      <td>21.0</td>\n",
       "      <td>118</td>\n",
       "      <td>2.80</td>\n",
       "      <td>2.69</td>\n",
       "      <td>0.39</td>\n",
       "      <td>1.82</td>\n",
       "      <td>4.32</td>\n",
       "      <td>1.04</td>\n",
       "      <td>2.93</td>\n",
       "      <td>735</td>\n",
       "    </tr>\n",
       "  </tbody>\n",
       "</table>\n",
       "</div>"
      ],
      "text/plain": [
       "   Alcohol  Malic.acid   Ash   Acl   Mg  Phenols  Flavanoids  \\\n",
       "0    14.23        1.71  2.43  15.6  127     2.80        3.06   \n",
       "1    13.20        1.78  2.14  11.2  100     2.65        2.76   \n",
       "2    13.16        2.36  2.67  18.6  101     2.80        3.24   \n",
       "3    14.37        1.95  2.50  16.8  113     3.85        3.49   \n",
       "4    13.24        2.59  2.87  21.0  118     2.80        2.69   \n",
       "\n",
       "   Nonflavanoid.phenols  Proanth  Color.int   Hue    OD  Proline  \n",
       "0                  0.28     2.29       5.64  1.04  3.92     1065  \n",
       "1                  0.26     1.28       4.38  1.05  3.40     1050  \n",
       "2                  0.30     2.81       5.68  1.03  3.17     1185  \n",
       "3                  0.24     2.18       7.80  0.86  3.45     1480  \n",
       "4                  0.39     1.82       4.32  1.04  2.93      735  "
      ]
     },
     "execution_count": 4,
     "metadata": {},
     "output_type": "execute_result"
    }
   ],
   "source": [
    "# Print first 5 rows of dataset\n",
    "wines.head()"
   ]
  },
  {
   "cell_type": "code",
   "execution_count": 17,
   "metadata": {},
   "outputs": [
    {
     "data": {
      "text/html": [
       "<div>\n",
       "<style scoped>\n",
       "    .dataframe tbody tr th:only-of-type {\n",
       "        vertical-align: middle;\n",
       "    }\n",
       "\n",
       "    .dataframe tbody tr th {\n",
       "        vertical-align: top;\n",
       "    }\n",
       "\n",
       "    .dataframe thead th {\n",
       "        text-align: right;\n",
       "    }\n",
       "</style>\n",
       "<table border=\"1\" class=\"dataframe\">\n",
       "  <thead>\n",
       "    <tr style=\"text-align: right;\">\n",
       "      <th></th>\n",
       "      <th>Alcohol</th>\n",
       "      <th>Malic.acid</th>\n",
       "    </tr>\n",
       "  </thead>\n",
       "  <tbody>\n",
       "    <tr>\n",
       "      <th>0</th>\n",
       "      <td>14.23</td>\n",
       "      <td>1.71</td>\n",
       "    </tr>\n",
       "    <tr>\n",
       "      <th>1</th>\n",
       "      <td>13.20</td>\n",
       "      <td>1.78</td>\n",
       "    </tr>\n",
       "  </tbody>\n",
       "</table>\n",
       "</div>"
      ],
      "text/plain": [
       "   Alcohol  Malic.acid\n",
       "0    14.23        1.71\n",
       "1    13.20        1.78"
      ]
     },
     "execution_count": 17,
     "metadata": {},
     "output_type": "execute_result"
    }
   ],
   "source": [
    "wines.iloc[0:2, 0:2]"
   ]
  },
  {
   "cell_type": "code",
   "execution_count": 16,
   "metadata": {},
   "outputs": [
    {
     "data": {
      "text/html": [
       "<div>\n",
       "<style scoped>\n",
       "    .dataframe tbody tr th:only-of-type {\n",
       "        vertical-align: middle;\n",
       "    }\n",
       "\n",
       "    .dataframe tbody tr th {\n",
       "        vertical-align: top;\n",
       "    }\n",
       "\n",
       "    .dataframe thead th {\n",
       "        text-align: right;\n",
       "    }\n",
       "</style>\n",
       "<table border=\"1\" class=\"dataframe\">\n",
       "  <thead>\n",
       "    <tr style=\"text-align: right;\">\n",
       "      <th></th>\n",
       "      <th>Alcohol</th>\n",
       "      <th>Malic.acid</th>\n",
       "      <th>Ash</th>\n",
       "    </tr>\n",
       "  </thead>\n",
       "  <tbody>\n",
       "    <tr>\n",
       "      <th>0</th>\n",
       "      <td>14.23</td>\n",
       "      <td>1.71</td>\n",
       "      <td>2.43</td>\n",
       "    </tr>\n",
       "    <tr>\n",
       "      <th>1</th>\n",
       "      <td>13.20</td>\n",
       "      <td>1.78</td>\n",
       "      <td>2.14</td>\n",
       "    </tr>\n",
       "    <tr>\n",
       "      <th>2</th>\n",
       "      <td>13.16</td>\n",
       "      <td>2.36</td>\n",
       "      <td>2.67</td>\n",
       "    </tr>\n",
       "  </tbody>\n",
       "</table>\n",
       "</div>"
      ],
      "text/plain": [
       "   Alcohol  Malic.acid   Ash\n",
       "0    14.23        1.71  2.43\n",
       "1    13.20        1.78  2.14\n",
       "2    13.16        2.36  2.67"
      ]
     },
     "execution_count": 16,
     "metadata": {},
     "output_type": "execute_result"
    }
   ],
   "source": [
    "wines.loc[0:2, 'Alcohol':'Ash']"
   ]
  },
  {
   "cell_type": "markdown",
   "metadata": {},
   "source": [
    "##### Find the number of rows and columns. Check if the data has missing values"
   ]
  },
  {
   "cell_type": "code",
   "execution_count": 4,
   "metadata": {},
   "outputs": [
    {
     "name": "stdout",
     "output_type": "stream",
     "text": [
      "<class 'pandas.core.frame.DataFrame'>\n",
      "RangeIndex: 178 entries, 0 to 177\n",
      "Data columns (total 13 columns):\n",
      " #   Column                Non-Null Count  Dtype  \n",
      "---  ------                --------------  -----  \n",
      " 0   Alcohol               178 non-null    float64\n",
      " 1   Malic.acid            178 non-null    float64\n",
      " 2   Ash                   178 non-null    float64\n",
      " 3   Acl                   178 non-null    float64\n",
      " 4   Mg                    178 non-null    int64  \n",
      " 5   Phenols               178 non-null    float64\n",
      " 6   Flavanoids            178 non-null    float64\n",
      " 7   Nonflavanoid.phenols  178 non-null    float64\n",
      " 8   Proanth               178 non-null    float64\n",
      " 9   Color.int             178 non-null    float64\n",
      " 10  Hue                   178 non-null    float64\n",
      " 11  OD                    178 non-null    float64\n",
      " 12  Proline               178 non-null    int64  \n",
      "dtypes: float64(11), int64(2)\n",
      "memory usage: 18.2 KB\n"
     ]
    }
   ],
   "source": [
    "# Print out statistics, including number of rows, columns and missing values\n",
    "wines.info()"
   ]
  },
  {
   "cell_type": "markdown",
   "metadata": {},
   "source": [
    "##### Print the basic descriptive stats for the data. Round the values to 3 decimal places"
   ]
  },
  {
   "cell_type": "code",
   "execution_count": 5,
   "metadata": {
    "scrolled": true
   },
   "outputs": [
    {
     "data": {
      "text/html": [
       "<div>\n",
       "<style scoped>\n",
       "    .dataframe tbody tr th:only-of-type {\n",
       "        vertical-align: middle;\n",
       "    }\n",
       "\n",
       "    .dataframe tbody tr th {\n",
       "        vertical-align: top;\n",
       "    }\n",
       "\n",
       "    .dataframe thead th {\n",
       "        text-align: right;\n",
       "    }\n",
       "</style>\n",
       "<table border=\"1\" class=\"dataframe\">\n",
       "  <thead>\n",
       "    <tr style=\"text-align: right;\">\n",
       "      <th></th>\n",
       "      <th>Alcohol</th>\n",
       "      <th>Malic.acid</th>\n",
       "      <th>Ash</th>\n",
       "      <th>Acl</th>\n",
       "      <th>Mg</th>\n",
       "      <th>Phenols</th>\n",
       "      <th>Flavanoids</th>\n",
       "      <th>Nonflavanoid.phenols</th>\n",
       "      <th>Proanth</th>\n",
       "      <th>Color.int</th>\n",
       "      <th>Hue</th>\n",
       "      <th>OD</th>\n",
       "      <th>Proline</th>\n",
       "    </tr>\n",
       "  </thead>\n",
       "  <tbody>\n",
       "    <tr>\n",
       "      <th>count</th>\n",
       "      <td>178.000</td>\n",
       "      <td>178.000</td>\n",
       "      <td>178.000</td>\n",
       "      <td>178.000</td>\n",
       "      <td>178.000</td>\n",
       "      <td>178.000</td>\n",
       "      <td>178.000</td>\n",
       "      <td>178.000</td>\n",
       "      <td>178.000</td>\n",
       "      <td>178.000</td>\n",
       "      <td>178.000</td>\n",
       "      <td>178.000</td>\n",
       "      <td>178.000</td>\n",
       "    </tr>\n",
       "    <tr>\n",
       "      <th>mean</th>\n",
       "      <td>13.001</td>\n",
       "      <td>2.336</td>\n",
       "      <td>2.367</td>\n",
       "      <td>19.495</td>\n",
       "      <td>99.742</td>\n",
       "      <td>2.295</td>\n",
       "      <td>2.029</td>\n",
       "      <td>0.362</td>\n",
       "      <td>1.591</td>\n",
       "      <td>5.058</td>\n",
       "      <td>0.957</td>\n",
       "      <td>2.612</td>\n",
       "      <td>746.893</td>\n",
       "    </tr>\n",
       "    <tr>\n",
       "      <th>std</th>\n",
       "      <td>0.812</td>\n",
       "      <td>1.117</td>\n",
       "      <td>0.274</td>\n",
       "      <td>3.340</td>\n",
       "      <td>14.282</td>\n",
       "      <td>0.626</td>\n",
       "      <td>0.999</td>\n",
       "      <td>0.124</td>\n",
       "      <td>0.572</td>\n",
       "      <td>2.318</td>\n",
       "      <td>0.229</td>\n",
       "      <td>0.710</td>\n",
       "      <td>314.907</td>\n",
       "    </tr>\n",
       "    <tr>\n",
       "      <th>min</th>\n",
       "      <td>11.030</td>\n",
       "      <td>0.740</td>\n",
       "      <td>1.360</td>\n",
       "      <td>10.600</td>\n",
       "      <td>70.000</td>\n",
       "      <td>0.980</td>\n",
       "      <td>0.340</td>\n",
       "      <td>0.130</td>\n",
       "      <td>0.410</td>\n",
       "      <td>1.280</td>\n",
       "      <td>0.480</td>\n",
       "      <td>1.270</td>\n",
       "      <td>278.000</td>\n",
       "    </tr>\n",
       "    <tr>\n",
       "      <th>25%</th>\n",
       "      <td>12.362</td>\n",
       "      <td>1.602</td>\n",
       "      <td>2.210</td>\n",
       "      <td>17.200</td>\n",
       "      <td>88.000</td>\n",
       "      <td>1.742</td>\n",
       "      <td>1.205</td>\n",
       "      <td>0.270</td>\n",
       "      <td>1.250</td>\n",
       "      <td>3.220</td>\n",
       "      <td>0.782</td>\n",
       "      <td>1.938</td>\n",
       "      <td>500.500</td>\n",
       "    </tr>\n",
       "    <tr>\n",
       "      <th>50%</th>\n",
       "      <td>13.050</td>\n",
       "      <td>1.865</td>\n",
       "      <td>2.360</td>\n",
       "      <td>19.500</td>\n",
       "      <td>98.000</td>\n",
       "      <td>2.355</td>\n",
       "      <td>2.135</td>\n",
       "      <td>0.340</td>\n",
       "      <td>1.555</td>\n",
       "      <td>4.690</td>\n",
       "      <td>0.965</td>\n",
       "      <td>2.780</td>\n",
       "      <td>673.500</td>\n",
       "    </tr>\n",
       "    <tr>\n",
       "      <th>75%</th>\n",
       "      <td>13.678</td>\n",
       "      <td>3.082</td>\n",
       "      <td>2.558</td>\n",
       "      <td>21.500</td>\n",
       "      <td>107.000</td>\n",
       "      <td>2.800</td>\n",
       "      <td>2.875</td>\n",
       "      <td>0.438</td>\n",
       "      <td>1.950</td>\n",
       "      <td>6.200</td>\n",
       "      <td>1.120</td>\n",
       "      <td>3.170</td>\n",
       "      <td>985.000</td>\n",
       "    </tr>\n",
       "    <tr>\n",
       "      <th>max</th>\n",
       "      <td>14.830</td>\n",
       "      <td>5.800</td>\n",
       "      <td>3.230</td>\n",
       "      <td>30.000</td>\n",
       "      <td>162.000</td>\n",
       "      <td>3.880</td>\n",
       "      <td>5.080</td>\n",
       "      <td>0.660</td>\n",
       "      <td>3.580</td>\n",
       "      <td>13.000</td>\n",
       "      <td>1.710</td>\n",
       "      <td>4.000</td>\n",
       "      <td>1680.000</td>\n",
       "    </tr>\n",
       "  </tbody>\n",
       "</table>\n",
       "</div>"
      ],
      "text/plain": [
       "       Alcohol  Malic.acid      Ash      Acl       Mg  Phenols  Flavanoids  \\\n",
       "count  178.000     178.000  178.000  178.000  178.000  178.000     178.000   \n",
       "mean    13.001       2.336    2.367   19.495   99.742    2.295       2.029   \n",
       "std      0.812       1.117    0.274    3.340   14.282    0.626       0.999   \n",
       "min     11.030       0.740    1.360   10.600   70.000    0.980       0.340   \n",
       "25%     12.362       1.602    2.210   17.200   88.000    1.742       1.205   \n",
       "50%     13.050       1.865    2.360   19.500   98.000    2.355       2.135   \n",
       "75%     13.678       3.082    2.558   21.500  107.000    2.800       2.875   \n",
       "max     14.830       5.800    3.230   30.000  162.000    3.880       5.080   \n",
       "\n",
       "       Nonflavanoid.phenols  Proanth  Color.int      Hue       OD   Proline  \n",
       "count               178.000  178.000    178.000  178.000  178.000   178.000  \n",
       "mean                  0.362    1.591      5.058    0.957    2.612   746.893  \n",
       "std                   0.124    0.572      2.318    0.229    0.710   314.907  \n",
       "min                   0.130    0.410      1.280    0.480    1.270   278.000  \n",
       "25%                   0.270    1.250      3.220    0.782    1.938   500.500  \n",
       "50%                   0.340    1.555      4.690    0.965    2.780   673.500  \n",
       "75%                   0.438    1.950      6.200    1.120    3.170   985.000  \n",
       "max                   0.660    3.580     13.000    1.710    4.000  1680.000  "
      ]
     },
     "execution_count": 5,
     "metadata": {},
     "output_type": "execute_result"
    }
   ],
   "source": [
    "# Print statistics for each numeric variable,\n",
    "# rounding to 3 decimal places\n",
    "round(wines.describe(), 3)"
   ]
  },
  {
   "cell_type": "markdown",
   "metadata": {},
   "source": [
    "##### Plot the histograms for wines data"
   ]
  },
  {
   "cell_type": "code",
   "execution_count": 6,
   "metadata": {},
   "outputs": [],
   "source": [
    "# Prepare to plot\n",
    "%matplotlib inline"
   ]
  },
  {
   "cell_type": "code",
   "execution_count": 7,
   "metadata": {},
   "outputs": [
    {
     "data": {
      "image/png": "[encoded data removed]",
      "text/plain": [
       "<Figure size 1080x1080 with 16 Axes>"
      ]
     },
     "metadata": {
      "needs_background": "light"
     },
     "output_type": "display_data"
    }
   ],
   "source": [
    "# Show histograms of all numeric variables in the dataset.\n",
    "# \"figsize\" controls the size of the histogram.\n",
    "wines.hist(figsize = (15,15))\n",
    "plt.tight_layout()\n",
    "plt.show()"
   ]
  },
  {
   "cell_type": "markdown",
   "metadata": {},
   "source": [
    "In statistics, skewness is a measure of the asymmetry of the probability distribution of a random variable about its mean. The skewness value can be positive or negative, or even undefined. If skewness = 0, the data are perfectly symmetrical. <br />\n",
    "A skewness of exactly zero is quite unlikely for real-world data, so how can you interpret the skewness number?<br />\n",
    "(Bulmer 1979) — a classic — suggests this <b>rule of thumb</b>:\n",
    "\n",
    "- If skewness is <b>less than -1 or greater than 1</b>, the distribution is <b>highly</b> skewed.\n",
    "- If skewness is <b>between -1 and -0.5 or between 0.5 and 1</b>, the distribution is </b>moderately</b> skewed.\n",
    "- If skewness is <b>between -0.5 and 0.5</b>, the distribution is approximately <b>symmetric</b>.\n",
    "\n",
    "Reference: https://brownmath.com/stat/shape.htm "
   ]
  },
  {
   "cell_type": "code",
   "execution_count": 8,
   "metadata": {},
   "outputs": [
    {
     "data": {
      "text/plain": [
       "Alcohol                -0.051482\n",
       "Malic.acid              1.039651\n",
       "Ash                    -0.176699\n",
       "Acl                     0.213047\n",
       "Mg                      1.098191\n",
       "Phenols                 0.086639\n",
       "Flavanoids              0.025344\n",
       "Nonflavanoid.phenols    0.450151\n",
       "Proanth                 0.517137\n",
       "Color.int               0.868585\n",
       "Hue                     0.021091\n",
       "OD                     -0.307285\n",
       "Proline                 0.767822\n",
       "dtype: float64"
      ]
     },
     "execution_count": 8,
     "metadata": {},
     "output_type": "execute_result"
    }
   ],
   "source": [
    "# Show skewness of numeric variables in dataset\n",
    "wines.skew()"
   ]
  },
  {
   "cell_type": "markdown",
   "metadata": {},
   "source": [
    "<img align=\"left\" src='https://drive.google.com/uc?export=view&id=0B08uY8vosNfoeUJ4NUxtMlVNNnM' style=\"width: 60px; height: 60px;\"><br />Are there variables that are highly skewed and if yes which one(s)?"
   ]
  },
  {
   "cell_type": "markdown",
   "metadata": {},
   "source": [
    "Put your answer below:\n",
    "\n",
    "    2 variables may be considered as relatively skewed:\n",
    "        - Malic.acid\n",
    "        - Mg"
   ]
  },
  {
   "cell_type": "markdown",
   "metadata": {},
   "source": [
    "\n",
    "### Summarizing EDA observations\n",
    "\n",
    " 1) What are your observations from the EDA steps above?<br />\n",
    " 2) Do we need to prepare the data before applying k-means?<br />\n",
    " 3) Do variables require any transformation or standardization?\n",
    "\n",
    "<b>Hint</b> : Look at the mean, std, histograms across variables. Check for scale differences and skewness."
   ]
  },
  {
   "cell_type": "markdown",
   "metadata": {},
   "source": [
    "Put your answer below:\n",
    "\n",
    "    - We should transform those variables that are highly skewed.\n",
    "    - The scale of variables is very different, so we should standardise the data."
   ]
  },
  {
   "cell_type": "markdown",
   "metadata": {},
   "source": [
    "### 2. Data preparation"
   ]
  },
  {
   "cell_type": "markdown",
   "metadata": {},
   "source": [
    "#### 2.1 Variable Selection"
   ]
  },
  {
   "cell_type": "markdown",
   "metadata": {},
   "source": [
    "The number of variables in this dataset is not too large. We will skip variable selection for now. "
   ]
  },
  {
   "cell_type": "markdown",
   "metadata": {},
   "source": [
    "#### 2.2 Data Transformation"
   ]
  },
  {
   "cell_type": "markdown",
   "metadata": {},
   "source": [
    "The variables `Malic.acid` and `Mg` require some transformation. We may not always know up-front the type of necessary transformation. It may be `log` transformation, it may be `square root` transformation or other. It is often necessary to try several transformations to find the optimum one.<br />\n",
    "In this notebook, we will just try the `log` transformation, but remember that it may not be the only one."
   ]
  },
  {
   "cell_type": "code",
   "execution_count": 9,
   "metadata": {},
   "outputs": [],
   "source": [
    "# Perform log transformation of some variables. \n",
    "# Create new variables, which will be the log of some old variables\n",
    "wines['Log_Malic.acid'] = np.log(wines['Malic.acid'])\n",
    "wines['Log_Mg'] = np.log(wines['Mg'])\n",
    "\n",
    "# For square root transformation, we would do this instead:\n",
    "# wines['SQRT_Malic.acid'] = np.sqrt(wines['Malic.acid'])\n",
    "# wines['SQRT_Mg'] = np.sqrt(wines['Mg'])"
   ]
  },
  {
   "cell_type": "code",
   "execution_count": 10,
   "metadata": {},
   "outputs": [
    {
     "name": "stdout",
     "output_type": "stream",
     "text": [
      "   Alcohol  Malic.acid   Ash   Acl   Mg  Phenols  Flavanoids  \\\n",
      "0    14.23        1.71  2.43  15.6  127     2.80        3.06   \n",
      "1    13.20        1.78  2.14  11.2  100     2.65        2.76   \n",
      "2    13.16        2.36  2.67  18.6  101     2.80        3.24   \n",
      "3    14.37        1.95  2.50  16.8  113     3.85        3.49   \n",
      "4    13.24        2.59  2.87  21.0  118     2.80        2.69   \n",
      "\n",
      "   Nonflavanoid.phenols  Proanth  Color.int   Hue    OD  Proline  \\\n",
      "0                  0.28     2.29       5.64  1.04  3.92     1065   \n",
      "1                  0.26     1.28       4.38  1.05  3.40     1050   \n",
      "2                  0.30     2.81       5.68  1.03  3.17     1185   \n",
      "3                  0.24     2.18       7.80  0.86  3.45     1480   \n",
      "4                  0.39     1.82       4.32  1.04  2.93      735   \n",
      "\n",
      "   Log_Malic.acid    Log_Mg  \n",
      "0        0.536493  4.844187  \n",
      "1        0.576613  4.605170  \n",
      "2        0.858662  4.615121  \n",
      "3        0.667829  4.727388  \n",
      "4        0.951658  4.770685  \n"
     ]
    }
   ],
   "source": [
    "# Show the addition of the new Log_Malic.acid and Log_Mg variables\n",
    "print(wines.head())"
   ]
  },
  {
   "cell_type": "code",
   "execution_count": 11,
   "metadata": {},
   "outputs": [
    {
     "name": "stdout",
     "output_type": "stream",
     "text": [
      "Alcohol                -0.051482\n",
      "Malic.acid              1.039651\n",
      "Ash                    -0.176699\n",
      "Acl                     0.213047\n",
      "Mg                      1.098191\n",
      "Phenols                 0.086639\n",
      "Flavanoids              0.025344\n",
      "Nonflavanoid.phenols    0.450151\n",
      "Proanth                 0.517137\n",
      "Color.int               0.868585\n",
      "Hue                     0.021091\n",
      "OD                     -0.307285\n",
      "Proline                 0.767822\n",
      "Log_Malic.acid          0.274613\n",
      "Log_Mg                  0.601445\n",
      "dtype: float64\n"
     ]
    }
   ],
   "source": [
    "# Show skewness\n",
    "print(wines.skew())"
   ]
  },
  {
   "cell_type": "code",
   "execution_count": 12,
   "metadata": {},
   "outputs": [
    {
     "name": "stderr",
     "output_type": "stream",
     "text": [
      "C:\\Users\\jasonchan\\Anaconda3\\lib\\site-packages\\seaborn\\distributions.py:2619: FutureWarning: `distplot` is a deprecated function and will be removed in a future version. Please adapt your code to use either `displot` (a figure-level function with similar flexibility) or `histplot` (an axes-level function for histograms).\n",
      "  warnings.warn(msg, FutureWarning)\n"
     ]
    },
    {
     "data": {
      "text/plain": [
       "<AxesSubplot:xlabel='Log_Malic.acid'>"
      ]
     },
     "execution_count": 12,
     "metadata": {},
     "output_type": "execute_result"
    },
    {
     "data": {
      "image/png": "[encoded data removed]",
      "text/plain": [
       "<Figure size 432x288 with 2 Axes>"
      ]
     },
     "metadata": {
      "needs_background": "light"
     },
     "output_type": "display_data"
    }
   ],
   "source": [
    "# Show histograms of 'Malic.acid' before and after transformation\n",
    "fig, ax = plt.subplots(1, 2)\n",
    "sns.distplot(wines['Malic.acid'], kde = False, ax = ax[0])\n",
    "sns.distplot(wines['Log_Malic.acid'],  kde = False, ax = ax[1])"
   ]
  },
  {
   "cell_type": "code",
   "execution_count": 13,
   "metadata": {},
   "outputs": [
    {
     "data": {
      "text/plain": [
       "<AxesSubplot:xlabel='Log_Mg'>"
      ]
     },
     "execution_count": 13,
     "metadata": {},
     "output_type": "execute_result"
    },
    {
     "data": {
      "image/png": "[encoded data removed]",
      "text/plain": [
       "<Figure size 432x288 with 2 Axes>"
      ]
     },
     "metadata": {
      "needs_background": "light"
     },
     "output_type": "display_data"
    }
   ],
   "source": [
    "# Show histograms of 'Mg' before and after transformation\n",
    "fig, ax2 = plt.subplots(1, 2)\n",
    "sns.distplot(wines['Mg'], kde = False, ax = ax2[0])\n",
    "sns.distplot(wines['Log_Mg'],kde = False, ax = ax2[1])"
   ]
  },
  {
   "cell_type": "markdown",
   "metadata": {},
   "source": [
    "<img align=\"left\" src='https://drive.google.com/uc?export=view&id=0B08uY8vosNfoeUJ4NUxtMlVNNnM' style=\"width: 60px; height: 60px;\"><br />Has the distribution changed between the original and the log transformation?"
   ]
  },
  {
   "cell_type": "markdown",
   "metadata": {},
   "source": [
    "Put your answer below:\n",
    "\n",
    "    - Yes, a transformation affects the shape of the distribution. In this case, we used log transformation, which will spread out the smaller values in the variable being transformed."
   ]
  },
  {
   "cell_type": "markdown",
   "metadata": {},
   "source": [
    "<b>With this improvement, we will use the transformed variables 'Log_Malic.acid' and 'Log_Mg' as part of the clustering variables. Let's drop the original variables.<br> <b>"
   ]
  },
  {
   "cell_type": "code",
   "execution_count": 14,
   "metadata": {},
   "outputs": [
    {
     "data": {
      "text/html": [
       "<div>\n",
       "<style scoped>\n",
       "    .dataframe tbody tr th:only-of-type {\n",
       "        vertical-align: middle;\n",
       "    }\n",
       "\n",
       "    .dataframe tbody tr th {\n",
       "        vertical-align: top;\n",
       "    }\n",
       "\n",
       "    .dataframe thead th {\n",
       "        text-align: right;\n",
       "    }\n",
       "</style>\n",
       "<table border=\"1\" class=\"dataframe\">\n",
       "  <thead>\n",
       "    <tr style=\"text-align: right;\">\n",
       "      <th></th>\n",
       "      <th>Alcohol</th>\n",
       "      <th>Ash</th>\n",
       "      <th>Acl</th>\n",
       "      <th>Phenols</th>\n",
       "      <th>Flavanoids</th>\n",
       "      <th>Nonflavanoid.phenols</th>\n",
       "      <th>Proanth</th>\n",
       "      <th>Color.int</th>\n",
       "      <th>Hue</th>\n",
       "      <th>OD</th>\n",
       "      <th>Proline</th>\n",
       "      <th>Log_Malic.acid</th>\n",
       "      <th>Log_Mg</th>\n",
       "    </tr>\n",
       "  </thead>\n",
       "  <tbody>\n",
       "    <tr>\n",
       "      <th>0</th>\n",
       "      <td>14.23</td>\n",
       "      <td>2.43</td>\n",
       "      <td>15.6</td>\n",
       "      <td>2.80</td>\n",
       "      <td>3.06</td>\n",
       "      <td>0.28</td>\n",
       "      <td>2.29</td>\n",
       "      <td>5.64</td>\n",
       "      <td>1.04</td>\n",
       "      <td>3.92</td>\n",
       "      <td>1065</td>\n",
       "      <td>0.536493</td>\n",
       "      <td>4.844187</td>\n",
       "    </tr>\n",
       "    <tr>\n",
       "      <th>1</th>\n",
       "      <td>13.20</td>\n",
       "      <td>2.14</td>\n",
       "      <td>11.2</td>\n",
       "      <td>2.65</td>\n",
       "      <td>2.76</td>\n",
       "      <td>0.26</td>\n",
       "      <td>1.28</td>\n",
       "      <td>4.38</td>\n",
       "      <td>1.05</td>\n",
       "      <td>3.40</td>\n",
       "      <td>1050</td>\n",
       "      <td>0.576613</td>\n",
       "      <td>4.605170</td>\n",
       "    </tr>\n",
       "    <tr>\n",
       "      <th>2</th>\n",
       "      <td>13.16</td>\n",
       "      <td>2.67</td>\n",
       "      <td>18.6</td>\n",
       "      <td>2.80</td>\n",
       "      <td>3.24</td>\n",
       "      <td>0.30</td>\n",
       "      <td>2.81</td>\n",
       "      <td>5.68</td>\n",
       "      <td>1.03</td>\n",
       "      <td>3.17</td>\n",
       "      <td>1185</td>\n",
       "      <td>0.858662</td>\n",
       "      <td>4.615121</td>\n",
       "    </tr>\n",
       "    <tr>\n",
       "      <th>3</th>\n",
       "      <td>14.37</td>\n",
       "      <td>2.50</td>\n",
       "      <td>16.8</td>\n",
       "      <td>3.85</td>\n",
       "      <td>3.49</td>\n",
       "      <td>0.24</td>\n",
       "      <td>2.18</td>\n",
       "      <td>7.80</td>\n",
       "      <td>0.86</td>\n",
       "      <td>3.45</td>\n",
       "      <td>1480</td>\n",
       "      <td>0.667829</td>\n",
       "      <td>4.727388</td>\n",
       "    </tr>\n",
       "    <tr>\n",
       "      <th>4</th>\n",
       "      <td>13.24</td>\n",
       "      <td>2.87</td>\n",
       "      <td>21.0</td>\n",
       "      <td>2.80</td>\n",
       "      <td>2.69</td>\n",
       "      <td>0.39</td>\n",
       "      <td>1.82</td>\n",
       "      <td>4.32</td>\n",
       "      <td>1.04</td>\n",
       "      <td>2.93</td>\n",
       "      <td>735</td>\n",
       "      <td>0.951658</td>\n",
       "      <td>4.770685</td>\n",
       "    </tr>\n",
       "  </tbody>\n",
       "</table>\n",
       "</div>"
      ],
      "text/plain": [
       "   Alcohol   Ash   Acl  Phenols  Flavanoids  Nonflavanoid.phenols  Proanth  \\\n",
       "0    14.23  2.43  15.6     2.80        3.06                  0.28     2.29   \n",
       "1    13.20  2.14  11.2     2.65        2.76                  0.26     1.28   \n",
       "2    13.16  2.67  18.6     2.80        3.24                  0.30     2.81   \n",
       "3    14.37  2.50  16.8     3.85        3.49                  0.24     2.18   \n",
       "4    13.24  2.87  21.0     2.80        2.69                  0.39     1.82   \n",
       "\n",
       "   Color.int   Hue    OD  Proline  Log_Malic.acid    Log_Mg  \n",
       "0       5.64  1.04  3.92     1065        0.536493  4.844187  \n",
       "1       4.38  1.05  3.40     1050        0.576613  4.605170  \n",
       "2       5.68  1.03  3.17     1185        0.858662  4.615121  \n",
       "3       7.80  0.86  3.45     1480        0.667829  4.727388  \n",
       "4       4.32  1.04  2.93      735        0.951658  4.770685  "
      ]
     },
     "execution_count": 14,
     "metadata": {},
     "output_type": "execute_result"
    }
   ],
   "source": [
    "# Create a new dataset, which does not include the old variables that were transformed\n",
    "wines_trans = wines.drop(['Malic.acid', 'Mg'], axis = 1)\n",
    "\n",
    "# Show first 5 rows of dataset\n",
    "wines_trans.head()"
   ]
  },
  {
   "cell_type": "markdown",
   "metadata": {},
   "source": [
    "#### 2.2 Standardization - Scaling the columns \n",
    "\n",
    "**Check this API Doc :** <br>\n",
    "https://scikit-learn.org/stable/modules/generated/sklearn.preprocessing.StandardScaler.html\n"
   ]
  },
  {
   "cell_type": "code",
   "execution_count": 15,
   "metadata": {},
   "outputs": [],
   "source": [
    "# Prepare to use a package for standardization\n",
    "from sklearn.preprocessing import StandardScaler"
   ]
  },
  {
   "cell_type": "code",
   "execution_count": 16,
   "metadata": {},
   "outputs": [
    {
     "data": {
      "text/html": [
       "<style>#sk-container-id-1 {color: black;background-color: white;}#sk-container-id-1 pre{padding: 0;}#sk-container-id-1 div.sk-toggleable {background-color: white;}#sk-container-id-1 label.sk-toggleable__label {cursor: pointer;display: block;width: 100%;margin-bottom: 0;padding: 0.3em;box-sizing: border-box;text-align: center;}#sk-container-id-1 label.sk-toggleable__label-arrow:before {content: \"▸\";float: left;margin-right: 0.25em;color: #696969;}#sk-container-id-1 label.sk-toggleable__label-arrow:hover:before {color: black;}#sk-container-id-1 div.sk-estimator:hover label.sk-toggleable__label-arrow:before {color: black;}#sk-container-id-1 div.sk-toggleable__content {max-height: 0;max-width: 0;overflow: hidden;text-align: left;background-color: #f0f8ff;}#sk-container-id-1 div.sk-toggleable__content pre {margin: 0.2em;color: black;border-radius: 0.25em;background-color: #f0f8ff;}#sk-container-id-1 input.sk-toggleable__control:checked~div.sk-toggleable__content {max-height: 200px;max-width: 100%;overflow: auto;}#sk-container-id-1 input.sk-toggleable__control:checked~label.sk-toggleable__label-arrow:before {content: \"▾\";}#sk-container-id-1 div.sk-estimator input.sk-toggleable__control:checked~label.sk-toggleable__label {background-color: #d4ebff;}#sk-container-id-1 div.sk-label input.sk-toggleable__control:checked~label.sk-toggleable__label {background-color: #d4ebff;}#sk-container-id-1 input.sk-hidden--visually {border: 0;clip: rect(1px 1px 1px 1px);clip: rect(1px, 1px, 1px, 1px);height: 1px;margin: -1px;overflow: hidden;padding: 0;position: absolute;width: 1px;}#sk-container-id-1 div.sk-estimator {font-family: monospace;background-color: #f0f8ff;border: 1px dotted black;border-radius: 0.25em;box-sizing: border-box;margin-bottom: 0.5em;}#sk-container-id-1 div.sk-estimator:hover {background-color: #d4ebff;}#sk-container-id-1 div.sk-parallel-item::after {content: \"\";width: 100%;border-bottom: 1px solid gray;flex-grow: 1;}#sk-container-id-1 div.sk-label:hover label.sk-toggleable__label {background-color: #d4ebff;}#sk-container-id-1 div.sk-serial::before {content: \"\";position: absolute;border-left: 1px solid gray;box-sizing: border-box;top: 0;bottom: 0;left: 50%;z-index: 0;}#sk-container-id-1 div.sk-serial {display: flex;flex-direction: column;align-items: center;background-color: white;padding-right: 0.2em;padding-left: 0.2em;position: relative;}#sk-container-id-1 div.sk-item {position: relative;z-index: 1;}#sk-container-id-1 div.sk-parallel {display: flex;align-items: stretch;justify-content: center;background-color: white;position: relative;}#sk-container-id-1 div.sk-item::before, #sk-container-id-1 div.sk-parallel-item::before {content: \"\";position: absolute;border-left: 1px solid gray;box-sizing: border-box;top: 0;bottom: 0;left: 50%;z-index: -1;}#sk-container-id-1 div.sk-parallel-item {display: flex;flex-direction: column;z-index: 1;position: relative;background-color: white;}#sk-container-id-1 div.sk-parallel-item:first-child::after {align-self: flex-end;width: 50%;}#sk-container-id-1 div.sk-parallel-item:last-child::after {align-self: flex-start;width: 50%;}#sk-container-id-1 div.sk-parallel-item:only-child::after {width: 0;}#sk-container-id-1 div.sk-dashed-wrapped {border: 1px dashed gray;margin: 0 0.4em 0.5em 0.4em;box-sizing: border-box;padding-bottom: 0.4em;background-color: white;}#sk-container-id-1 div.sk-label label {font-family: monospace;font-weight: bold;display: inline-block;line-height: 1.2em;}#sk-container-id-1 div.sk-label-container {text-align: center;}#sk-container-id-1 div.sk-container {/* jupyter's `normalize.less` sets `[hidden] { display: none; }` but bootstrap.min.css set `[hidden] { display: none !important; }` so we also need the `!important` here to be able to override the default hidden behavior on the sphinx rendered scikit-learn.org. See: https://github.com/scikit-learn/scikit-learn/issues/21755 */display: inline-block !important;position: relative;}#sk-container-id-1 div.sk-text-repr-fallback {display: none;}</style><div id=\"sk-container-id-1\" class=\"sk-top-container\"><div class=\"sk-text-repr-fallback\"><pre>StandardScaler()</pre><b>In a Jupyter environment, please rerun this cell to show the HTML representation or trust the notebook. <br />On GitHub, the HTML representation is unable to render, please try loading this page with nbviewer.org.</b></div><div class=\"sk-container\" hidden><div class=\"sk-item\"><div class=\"sk-estimator sk-toggleable\"><input class=\"sk-toggleable__control sk-hidden--visually\" id=\"sk-estimator-id-1\" type=\"checkbox\" checked><label for=\"sk-estimator-id-1\" class=\"sk-toggleable__label sk-toggleable__label-arrow\">StandardScaler</label><div class=\"sk-toggleable__content\"><pre>StandardScaler()</pre></div></div></div></div></div>"
      ],
      "text/plain": [
       "StandardScaler()"
      ]
     },
     "execution_count": 16,
     "metadata": {},
     "output_type": "execute_result"
    }
   ],
   "source": [
    "# Scales data using z = (x - u) / s\n",
    "\n",
    "# Create a StandardScaler object that will perform the scaling\n",
    "scaler = StandardScaler()\n",
    "\n",
    "# Give the dataset to the scaler, so that it can perform statistical analysis on the dataset\n",
    "scaler.fit(wines_trans)"
   ]
  },
  {
   "cell_type": "markdown",
   "metadata": {},
   "source": [
    "#### 1. Print the `mean` and `variance` attributes from the `scaler` object after calling `fit()`"
   ]
  },
  {
   "cell_type": "code",
   "execution_count": 17,
   "metadata": {},
   "outputs": [
    {
     "data": {
      "text/plain": [
       "array([1.30006180e+01, 2.36651685e+00, 1.94949438e+01, 2.29511236e+00,\n",
       "       2.02926966e+00, 3.61853933e-01, 1.59089888e+00, 5.05808988e+00,\n",
       "       9.57449438e-01, 2.61168539e+00, 7.46893258e+02, 7.45051664e-01,\n",
       "       4.59304201e+00])"
      ]
     },
     "execution_count": 17,
     "metadata": {},
     "output_type": "execute_result"
    }
   ],
   "source": [
    "# Show mean of original variables, before scaling\n",
    "scaler.mean_"
   ]
  },
  {
   "cell_type": "code",
   "execution_count": 18,
   "metadata": {},
   "outputs": [
    {
     "data": {
      "text/html": [
       "<div>\n",
       "<style scoped>\n",
       "    .dataframe tbody tr th:only-of-type {\n",
       "        vertical-align: middle;\n",
       "    }\n",
       "\n",
       "    .dataframe tbody tr th {\n",
       "        vertical-align: top;\n",
       "    }\n",
       "\n",
       "    .dataframe thead th {\n",
       "        text-align: right;\n",
       "    }\n",
       "</style>\n",
       "<table border=\"1\" class=\"dataframe\">\n",
       "  <thead>\n",
       "    <tr style=\"text-align: right;\">\n",
       "      <th></th>\n",
       "      <th>Alcohol</th>\n",
       "      <th>Ash</th>\n",
       "      <th>Acl</th>\n",
       "      <th>Phenols</th>\n",
       "      <th>Flavanoids</th>\n",
       "      <th>Nonflavanoid.phenols</th>\n",
       "      <th>Proanth</th>\n",
       "      <th>Color.int</th>\n",
       "      <th>Hue</th>\n",
       "      <th>OD</th>\n",
       "      <th>Proline</th>\n",
       "      <th>Log_Malic.acid</th>\n",
       "      <th>Log_Mg</th>\n",
       "    </tr>\n",
       "  </thead>\n",
       "  <tbody>\n",
       "    <tr>\n",
       "      <th>count</th>\n",
       "      <td>178.000000</td>\n",
       "      <td>178.000000</td>\n",
       "      <td>178.000000</td>\n",
       "      <td>178.000000</td>\n",
       "      <td>178.000000</td>\n",
       "      <td>178.000000</td>\n",
       "      <td>178.000000</td>\n",
       "      <td>178.000000</td>\n",
       "      <td>178.000000</td>\n",
       "      <td>178.000000</td>\n",
       "      <td>178.000000</td>\n",
       "      <td>178.000000</td>\n",
       "      <td>178.000000</td>\n",
       "    </tr>\n",
       "    <tr>\n",
       "      <th>mean</th>\n",
       "      <td>13.000618</td>\n",
       "      <td>2.366517</td>\n",
       "      <td>19.494944</td>\n",
       "      <td>2.295112</td>\n",
       "      <td>2.029270</td>\n",
       "      <td>0.361854</td>\n",
       "      <td>1.590899</td>\n",
       "      <td>5.058090</td>\n",
       "      <td>0.957449</td>\n",
       "      <td>2.611685</td>\n",
       "      <td>746.893258</td>\n",
       "      <td>0.745052</td>\n",
       "      <td>4.593042</td>\n",
       "    </tr>\n",
       "    <tr>\n",
       "      <th>std</th>\n",
       "      <td>0.811827</td>\n",
       "      <td>0.274344</td>\n",
       "      <td>3.339564</td>\n",
       "      <td>0.625851</td>\n",
       "      <td>0.998859</td>\n",
       "      <td>0.124453</td>\n",
       "      <td>0.572359</td>\n",
       "      <td>2.318286</td>\n",
       "      <td>0.228572</td>\n",
       "      <td>0.709990</td>\n",
       "      <td>314.907474</td>\n",
       "      <td>0.450274</td>\n",
       "      <td>0.136627</td>\n",
       "    </tr>\n",
       "    <tr>\n",
       "      <th>min</th>\n",
       "      <td>11.030000</td>\n",
       "      <td>1.360000</td>\n",
       "      <td>10.600000</td>\n",
       "      <td>0.980000</td>\n",
       "      <td>0.340000</td>\n",
       "      <td>0.130000</td>\n",
       "      <td>0.410000</td>\n",
       "      <td>1.280000</td>\n",
       "      <td>0.480000</td>\n",
       "      <td>1.270000</td>\n",
       "      <td>278.000000</td>\n",
       "      <td>-0.301105</td>\n",
       "      <td>4.248495</td>\n",
       "    </tr>\n",
       "    <tr>\n",
       "      <th>25%</th>\n",
       "      <td>12.362500</td>\n",
       "      <td>2.210000</td>\n",
       "      <td>17.200000</td>\n",
       "      <td>1.742500</td>\n",
       "      <td>1.205000</td>\n",
       "      <td>0.270000</td>\n",
       "      <td>1.250000</td>\n",
       "      <td>3.220000</td>\n",
       "      <td>0.782500</td>\n",
       "      <td>1.937500</td>\n",
       "      <td>500.500000</td>\n",
       "      <td>0.471561</td>\n",
       "      <td>4.477337</td>\n",
       "    </tr>\n",
       "    <tr>\n",
       "      <th>50%</th>\n",
       "      <td>13.050000</td>\n",
       "      <td>2.360000</td>\n",
       "      <td>19.500000</td>\n",
       "      <td>2.355000</td>\n",
       "      <td>2.135000</td>\n",
       "      <td>0.340000</td>\n",
       "      <td>1.555000</td>\n",
       "      <td>4.690000</td>\n",
       "      <td>0.965000</td>\n",
       "      <td>2.780000</td>\n",
       "      <td>673.500000</td>\n",
       "      <td>0.623257</td>\n",
       "      <td>4.584967</td>\n",
       "    </tr>\n",
       "    <tr>\n",
       "      <th>75%</th>\n",
       "      <td>13.677500</td>\n",
       "      <td>2.557500</td>\n",
       "      <td>21.500000</td>\n",
       "      <td>2.800000</td>\n",
       "      <td>2.875000</td>\n",
       "      <td>0.437500</td>\n",
       "      <td>1.950000</td>\n",
       "      <td>6.200000</td>\n",
       "      <td>1.120000</td>\n",
       "      <td>3.170000</td>\n",
       "      <td>985.000000</td>\n",
       "      <td>1.125692</td>\n",
       "      <td>4.672829</td>\n",
       "    </tr>\n",
       "    <tr>\n",
       "      <th>max</th>\n",
       "      <td>14.830000</td>\n",
       "      <td>3.230000</td>\n",
       "      <td>30.000000</td>\n",
       "      <td>3.880000</td>\n",
       "      <td>5.080000</td>\n",
       "      <td>0.660000</td>\n",
       "      <td>3.580000</td>\n",
       "      <td>13.000000</td>\n",
       "      <td>1.710000</td>\n",
       "      <td>4.000000</td>\n",
       "      <td>1680.000000</td>\n",
       "      <td>1.757858</td>\n",
       "      <td>5.087596</td>\n",
       "    </tr>\n",
       "  </tbody>\n",
       "</table>\n",
       "</div>"
      ],
      "text/plain": [
       "          Alcohol         Ash         Acl     Phenols  Flavanoids  \\\n",
       "count  178.000000  178.000000  178.000000  178.000000  178.000000   \n",
       "mean    13.000618    2.366517   19.494944    2.295112    2.029270   \n",
       "std      0.811827    0.274344    3.339564    0.625851    0.998859   \n",
       "min     11.030000    1.360000   10.600000    0.980000    0.340000   \n",
       "25%     12.362500    2.210000   17.200000    1.742500    1.205000   \n",
       "50%     13.050000    2.360000   19.500000    2.355000    2.135000   \n",
       "75%     13.677500    2.557500   21.500000    2.800000    2.875000   \n",
       "max     14.830000    3.230000   30.000000    3.880000    5.080000   \n",
       "\n",
       "       Nonflavanoid.phenols     Proanth   Color.int         Hue          OD  \\\n",
       "count            178.000000  178.000000  178.000000  178.000000  178.000000   \n",
       "mean               0.361854    1.590899    5.058090    0.957449    2.611685   \n",
       "std                0.124453    0.572359    2.318286    0.228572    0.709990   \n",
       "min                0.130000    0.410000    1.280000    0.480000    1.270000   \n",
       "25%                0.270000    1.250000    3.220000    0.782500    1.937500   \n",
       "50%                0.340000    1.555000    4.690000    0.965000    2.780000   \n",
       "75%                0.437500    1.950000    6.200000    1.120000    3.170000   \n",
       "max                0.660000    3.580000   13.000000    1.710000    4.000000   \n",
       "\n",
       "           Proline  Log_Malic.acid      Log_Mg  \n",
       "count   178.000000      178.000000  178.000000  \n",
       "mean    746.893258        0.745052    4.593042  \n",
       "std     314.907474        0.450274    0.136627  \n",
       "min     278.000000       -0.301105    4.248495  \n",
       "25%     500.500000        0.471561    4.477337  \n",
       "50%     673.500000        0.623257    4.584967  \n",
       "75%     985.000000        1.125692    4.672829  \n",
       "max    1680.000000        1.757858    5.087596  "
      ]
     },
     "execution_count": 18,
     "metadata": {},
     "output_type": "execute_result"
    }
   ],
   "source": [
    "# Show statistics of numeric variables of the 'wines_trans' dataset.\n",
    "# Notice that the mean values are the same as above.\n",
    "wines_trans.describe()"
   ]
  },
  {
   "cell_type": "code",
   "execution_count": 19,
   "metadata": {},
   "outputs": [
    {
     "data": {
      "text/plain": [
       "array([6.55359730e-01, 7.48418003e-02, 1.10900306e+01, 3.89489032e-01,\n",
       "       9.92113512e-01, 1.54016191e-02, 3.25754248e-01, 5.34425585e+00,\n",
       "       5.19514497e-02, 5.01254463e-01, 9.86096010e+04, 2.01607859e-01,\n",
       "       1.85621961e-02])"
      ]
     },
     "execution_count": 19,
     "metadata": {},
     "output_type": "execute_result"
    }
   ],
   "source": [
    "# Show variance of original variables, before scaling\n",
    "scaler.var_"
   ]
  },
  {
   "cell_type": "markdown",
   "metadata": {},
   "source": [
    "\n",
    "#### 2. Tranform the wines data using the `transform()` function"
   ]
  },
  {
   "cell_type": "markdown",
   "metadata": {},
   "source": [
    "The function `transform()` is `Scikit-Learn` way of performing the function. Do not be confused with the Data Transformation which we did in Section 2.2."
   ]
  },
  {
   "cell_type": "markdown",
   "metadata": {},
   "source": [
    "#### Call the `transform()` function and save the result in `wines_scaled_np`."
   ]
  },
  {
   "cell_type": "code",
   "execution_count": 20,
   "metadata": {},
   "outputs": [],
   "source": [
    "# Scale the dataset\n",
    "wines_scaled_np = scaler.transform(wines_trans)"
   ]
  },
  {
   "cell_type": "code",
   "execution_count": 21,
   "metadata": {},
   "outputs": [
    {
     "data": {
      "text/plain": [
       "array([[ 1.51861254,  0.23205254, -1.16959318, ...,  1.01300893,\n",
       "        -0.46448718,  1.84335927],\n",
       "       [ 0.24628963, -0.82799632, -2.49084714, ...,  0.96524152,\n",
       "        -0.3751346 ,  0.0890186 ],\n",
       "       [ 0.19687903,  1.10933436, -0.2687382 , ...,  1.39514818,\n",
       "         0.25302455,  0.16205222],\n",
       "       ...,\n",
       "       [ 0.33275817, -0.38935541,  0.15166079, ...,  0.28057537,\n",
       "         1.57881801,  1.42722574],\n",
       "       [ 0.20923168,  0.01273209,  0.15166079, ...,  0.29649784,\n",
       "         0.46013964,  1.42722574],\n",
       "       [ 1.39508604,  1.36520822,  1.50294326, ..., -0.59516041,\n",
       "         1.48312691, -0.21060743]])"
      ]
     },
     "execution_count": 21,
     "metadata": {},
     "output_type": "execute_result"
    }
   ],
   "source": [
    "# Show the dataset\n",
    "wines_scaled_np"
   ]
  },
  {
   "cell_type": "code",
   "execution_count": 22,
   "metadata": {},
   "outputs": [
    {
     "data": {
      "text/plain": [
       "numpy.ndarray"
      ]
     },
     "execution_count": 22,
     "metadata": {},
     "output_type": "execute_result"
    }
   ],
   "source": [
    "# What is the data type of scaled data returned by transform()?\n",
    "type(wines_scaled_np)"
   ]
  },
  {
   "cell_type": "markdown",
   "metadata": {},
   "source": [
    "#### Let's create a DataFrame `wines_prepared` using `wines_scaled_np` as input and columns same as `wines_trans`"
   ]
  },
  {
   "cell_type": "code",
   "execution_count": 23,
   "metadata": {},
   "outputs": [],
   "source": [
    "# Create a new dataset, using the scaled dataset, with the same column names as the transformed dataset\n",
    "wines_prepared = pd.DataFrame(wines_scaled_np, columns = wines_trans.columns)"
   ]
  },
  {
   "cell_type": "code",
   "execution_count": 24,
   "metadata": {},
   "outputs": [
    {
     "data": {
      "text/html": [
       "<div>\n",
       "<style scoped>\n",
       "    .dataframe tbody tr th:only-of-type {\n",
       "        vertical-align: middle;\n",
       "    }\n",
       "\n",
       "    .dataframe tbody tr th {\n",
       "        vertical-align: top;\n",
       "    }\n",
       "\n",
       "    .dataframe thead th {\n",
       "        text-align: right;\n",
       "    }\n",
       "</style>\n",
       "<table border=\"1\" class=\"dataframe\">\n",
       "  <thead>\n",
       "    <tr style=\"text-align: right;\">\n",
       "      <th></th>\n",
       "      <th>Alcohol</th>\n",
       "      <th>Ash</th>\n",
       "      <th>Acl</th>\n",
       "      <th>Phenols</th>\n",
       "      <th>Flavanoids</th>\n",
       "      <th>Nonflavanoid.phenols</th>\n",
       "      <th>Proanth</th>\n",
       "      <th>Color.int</th>\n",
       "      <th>Hue</th>\n",
       "      <th>OD</th>\n",
       "      <th>Proline</th>\n",
       "      <th>Log_Malic.acid</th>\n",
       "      <th>Log_Mg</th>\n",
       "    </tr>\n",
       "  </thead>\n",
       "  <tbody>\n",
       "    <tr>\n",
       "      <th>0</th>\n",
       "      <td>1.518613</td>\n",
       "      <td>0.232053</td>\n",
       "      <td>-1.169593</td>\n",
       "      <td>0.808997</td>\n",
       "      <td>1.034819</td>\n",
       "      <td>-0.659563</td>\n",
       "      <td>1.224884</td>\n",
       "      <td>0.251717</td>\n",
       "      <td>0.362177</td>\n",
       "      <td>1.847920</td>\n",
       "      <td>1.013009</td>\n",
       "      <td>-0.464487</td>\n",
       "      <td>1.843359</td>\n",
       "    </tr>\n",
       "    <tr>\n",
       "      <th>1</th>\n",
       "      <td>0.246290</td>\n",
       "      <td>-0.827996</td>\n",
       "      <td>-2.490847</td>\n",
       "      <td>0.568648</td>\n",
       "      <td>0.733629</td>\n",
       "      <td>-0.820719</td>\n",
       "      <td>-0.544721</td>\n",
       "      <td>-0.293321</td>\n",
       "      <td>0.406051</td>\n",
       "      <td>1.113449</td>\n",
       "      <td>0.965242</td>\n",
       "      <td>-0.375135</td>\n",
       "      <td>0.089019</td>\n",
       "    </tr>\n",
       "    <tr>\n",
       "      <th>2</th>\n",
       "      <td>0.196879</td>\n",
       "      <td>1.109334</td>\n",
       "      <td>-0.268738</td>\n",
       "      <td>0.808997</td>\n",
       "      <td>1.215533</td>\n",
       "      <td>-0.498407</td>\n",
       "      <td>2.135968</td>\n",
       "      <td>0.269020</td>\n",
       "      <td>0.318304</td>\n",
       "      <td>0.788587</td>\n",
       "      <td>1.395148</td>\n",
       "      <td>0.253025</td>\n",
       "      <td>0.162052</td>\n",
       "    </tr>\n",
       "    <tr>\n",
       "      <th>3</th>\n",
       "      <td>1.691550</td>\n",
       "      <td>0.487926</td>\n",
       "      <td>-0.809251</td>\n",
       "      <td>2.491446</td>\n",
       "      <td>1.466525</td>\n",
       "      <td>-0.981875</td>\n",
       "      <td>1.032155</td>\n",
       "      <td>1.186068</td>\n",
       "      <td>-0.427544</td>\n",
       "      <td>1.184071</td>\n",
       "      <td>2.334574</td>\n",
       "      <td>-0.171984</td>\n",
       "      <td>0.986074</td>\n",
       "    </tr>\n",
       "    <tr>\n",
       "      <th>4</th>\n",
       "      <td>0.295700</td>\n",
       "      <td>1.840403</td>\n",
       "      <td>0.451946</td>\n",
       "      <td>0.808997</td>\n",
       "      <td>0.663351</td>\n",
       "      <td>0.226796</td>\n",
       "      <td>0.401404</td>\n",
       "      <td>-0.319276</td>\n",
       "      <td>0.362177</td>\n",
       "      <td>0.449601</td>\n",
       "      <td>-0.037874</td>\n",
       "      <td>0.460140</td>\n",
       "      <td>1.303865</td>\n",
       "    </tr>\n",
       "  </tbody>\n",
       "</table>\n",
       "</div>"
      ],
      "text/plain": [
       "    Alcohol       Ash       Acl   Phenols  Flavanoids  Nonflavanoid.phenols  \\\n",
       "0  1.518613  0.232053 -1.169593  0.808997    1.034819             -0.659563   \n",
       "1  0.246290 -0.827996 -2.490847  0.568648    0.733629             -0.820719   \n",
       "2  0.196879  1.109334 -0.268738  0.808997    1.215533             -0.498407   \n",
       "3  1.691550  0.487926 -0.809251  2.491446    1.466525             -0.981875   \n",
       "4  0.295700  1.840403  0.451946  0.808997    0.663351              0.226796   \n",
       "\n",
       "    Proanth  Color.int       Hue        OD   Proline  Log_Malic.acid    Log_Mg  \n",
       "0  1.224884   0.251717  0.362177  1.847920  1.013009       -0.464487  1.843359  \n",
       "1 -0.544721  -0.293321  0.406051  1.113449  0.965242       -0.375135  0.089019  \n",
       "2  2.135968   0.269020  0.318304  0.788587  1.395148        0.253025  0.162052  \n",
       "3  1.032155   1.186068 -0.427544  1.184071  2.334574       -0.171984  0.986074  \n",
       "4  0.401404  -0.319276  0.362177  0.449601 -0.037874        0.460140  1.303865  "
      ]
     },
     "execution_count": 24,
     "metadata": {},
     "output_type": "execute_result"
    }
   ],
   "source": [
    "# Show first 5 rows of dataset\n",
    "wines_prepared.head()"
   ]
  },
  {
   "cell_type": "code",
   "execution_count": 25,
   "metadata": {},
   "outputs": [
    {
     "data": {
      "text/html": [
       "<div>\n",
       "<style scoped>\n",
       "    .dataframe tbody tr th:only-of-type {\n",
       "        vertical-align: middle;\n",
       "    }\n",
       "\n",
       "    .dataframe tbody tr th {\n",
       "        vertical-align: top;\n",
       "    }\n",
       "\n",
       "    .dataframe thead th {\n",
       "        text-align: right;\n",
       "    }\n",
       "</style>\n",
       "<table border=\"1\" class=\"dataframe\">\n",
       "  <thead>\n",
       "    <tr style=\"text-align: right;\">\n",
       "      <th></th>\n",
       "      <th>Alcohol</th>\n",
       "      <th>Ash</th>\n",
       "      <th>Acl</th>\n",
       "      <th>Phenols</th>\n",
       "      <th>Flavanoids</th>\n",
       "      <th>Nonflavanoid.phenols</th>\n",
       "      <th>Proanth</th>\n",
       "      <th>Color.int</th>\n",
       "      <th>Hue</th>\n",
       "      <th>OD</th>\n",
       "      <th>Proline</th>\n",
       "      <th>Log_Malic.acid</th>\n",
       "      <th>Log_Mg</th>\n",
       "    </tr>\n",
       "  </thead>\n",
       "  <tbody>\n",
       "    <tr>\n",
       "      <th>count</th>\n",
       "      <td>1.780000e+02</td>\n",
       "      <td>1.780000e+02</td>\n",
       "      <td>1.780000e+02</td>\n",
       "      <td>1.780000e+02</td>\n",
       "      <td>1.780000e+02</td>\n",
       "      <td>1.780000e+02</td>\n",
       "      <td>1.780000e+02</td>\n",
       "      <td>1.780000e+02</td>\n",
       "      <td>1.780000e+02</td>\n",
       "      <td>1.780000e+02</td>\n",
       "      <td>1.780000e+02</td>\n",
       "      <td>1.780000e+02</td>\n",
       "      <td>1.780000e+02</td>\n",
       "    </tr>\n",
       "    <tr>\n",
       "      <th>mean</th>\n",
       "      <td>-8.619821e-16</td>\n",
       "      <td>-8.657245e-16</td>\n",
       "      <td>-1.160121e-16</td>\n",
       "      <td>-2.972030e-16</td>\n",
       "      <td>-4.016762e-16</td>\n",
       "      <td>4.079134e-16</td>\n",
       "      <td>-1.699639e-16</td>\n",
       "      <td>-1.122697e-17</td>\n",
       "      <td>3.717376e-16</td>\n",
       "      <td>2.919013e-16</td>\n",
       "      <td>-7.484650e-18</td>\n",
       "      <td>-1.871162e-17</td>\n",
       "      <td>6.820387e-16</td>\n",
       "    </tr>\n",
       "    <tr>\n",
       "      <th>std</th>\n",
       "      <td>1.002821e+00</td>\n",
       "      <td>1.002821e+00</td>\n",
       "      <td>1.002821e+00</td>\n",
       "      <td>1.002821e+00</td>\n",
       "      <td>1.002821e+00</td>\n",
       "      <td>1.002821e+00</td>\n",
       "      <td>1.002821e+00</td>\n",
       "      <td>1.002821e+00</td>\n",
       "      <td>1.002821e+00</td>\n",
       "      <td>1.002821e+00</td>\n",
       "      <td>1.002821e+00</td>\n",
       "      <td>1.002821e+00</td>\n",
       "      <td>1.002821e+00</td>\n",
       "    </tr>\n",
       "    <tr>\n",
       "      <th>min</th>\n",
       "      <td>-2.434235e+00</td>\n",
       "      <td>-3.679162e+00</td>\n",
       "      <td>-2.671018e+00</td>\n",
       "      <td>-2.107246e+00</td>\n",
       "      <td>-1.695971e+00</td>\n",
       "      <td>-1.868234e+00</td>\n",
       "      <td>-2.069034e+00</td>\n",
       "      <td>-1.634288e+00</td>\n",
       "      <td>-2.094732e+00</td>\n",
       "      <td>-1.895054e+00</td>\n",
       "      <td>-1.493188e+00</td>\n",
       "      <td>-2.329931e+00</td>\n",
       "      <td>-2.528911e+00</td>\n",
       "    </tr>\n",
       "    <tr>\n",
       "      <th>25%</th>\n",
       "      <td>-7.882448e-01</td>\n",
       "      <td>-5.721225e-01</td>\n",
       "      <td>-6.891372e-01</td>\n",
       "      <td>-8.854682e-01</td>\n",
       "      <td>-8.275393e-01</td>\n",
       "      <td>-7.401412e-01</td>\n",
       "      <td>-5.972835e-01</td>\n",
       "      <td>-7.951025e-01</td>\n",
       "      <td>-7.675624e-01</td>\n",
       "      <td>-9.522483e-01</td>\n",
       "      <td>-7.846378e-01</td>\n",
       "      <td>-6.090997e-01</td>\n",
       "      <td>-8.492551e-01</td>\n",
       "    </tr>\n",
       "    <tr>\n",
       "      <th>50%</th>\n",
       "      <td>6.099988e-02</td>\n",
       "      <td>-2.382132e-02</td>\n",
       "      <td>1.518295e-03</td>\n",
       "      <td>9.595986e-02</td>\n",
       "      <td>1.061497e-01</td>\n",
       "      <td>-1.760948e-01</td>\n",
       "      <td>-6.289785e-02</td>\n",
       "      <td>-1.592246e-01</td>\n",
       "      <td>3.312687e-02</td>\n",
       "      <td>2.377348e-01</td>\n",
       "      <td>-2.337204e-01</td>\n",
       "      <td>-2.712520e-01</td>\n",
       "      <td>-5.926561e-02</td>\n",
       "    </tr>\n",
       "    <tr>\n",
       "      <th>75%</th>\n",
       "      <td>8.361286e-01</td>\n",
       "      <td>6.981085e-01</td>\n",
       "      <td>6.020883e-01</td>\n",
       "      <td>8.089974e-01</td>\n",
       "      <td>8.490851e-01</td>\n",
       "      <td>6.095413e-01</td>\n",
       "      <td>6.291754e-01</td>\n",
       "      <td>4.939560e-01</td>\n",
       "      <td>7.131644e-01</td>\n",
       "      <td>7.885875e-01</td>\n",
       "      <td>7.582494e-01</td>\n",
       "      <td>8.477374e-01</td>\n",
       "      <td>5.856208e-01</td>\n",
       "    </tr>\n",
       "    <tr>\n",
       "      <th>max</th>\n",
       "      <td>2.259772e+00</td>\n",
       "      <td>3.156325e+00</td>\n",
       "      <td>3.154511e+00</td>\n",
       "      <td>2.539515e+00</td>\n",
       "      <td>3.062832e+00</td>\n",
       "      <td>2.402403e+00</td>\n",
       "      <td>3.485073e+00</td>\n",
       "      <td>3.435432e+00</td>\n",
       "      <td>3.301694e+00</td>\n",
       "      <td>1.960915e+00</td>\n",
       "      <td>2.971473e+00</td>\n",
       "      <td>2.255655e+00</td>\n",
       "      <td>3.629939e+00</td>\n",
       "    </tr>\n",
       "  </tbody>\n",
       "</table>\n",
       "</div>"
      ],
      "text/plain": [
       "            Alcohol           Ash           Acl       Phenols    Flavanoids  \\\n",
       "count  1.780000e+02  1.780000e+02  1.780000e+02  1.780000e+02  1.780000e+02   \n",
       "mean  -8.619821e-16 -8.657245e-16 -1.160121e-16 -2.972030e-16 -4.016762e-16   \n",
       "std    1.002821e+00  1.002821e+00  1.002821e+00  1.002821e+00  1.002821e+00   \n",
       "min   -2.434235e+00 -3.679162e+00 -2.671018e+00 -2.107246e+00 -1.695971e+00   \n",
       "25%   -7.882448e-01 -5.721225e-01 -6.891372e-01 -8.854682e-01 -8.275393e-01   \n",
       "50%    6.099988e-02 -2.382132e-02  1.518295e-03  9.595986e-02  1.061497e-01   \n",
       "75%    8.361286e-01  6.981085e-01  6.020883e-01  8.089974e-01  8.490851e-01   \n",
       "max    2.259772e+00  3.156325e+00  3.154511e+00  2.539515e+00  3.062832e+00   \n",
       "\n",
       "       Nonflavanoid.phenols       Proanth     Color.int           Hue  \\\n",
       "count          1.780000e+02  1.780000e+02  1.780000e+02  1.780000e+02   \n",
       "mean           4.079134e-16 -1.699639e-16 -1.122697e-17  3.717376e-16   \n",
       "std            1.002821e+00  1.002821e+00  1.002821e+00  1.002821e+00   \n",
       "min           -1.868234e+00 -2.069034e+00 -1.634288e+00 -2.094732e+00   \n",
       "25%           -7.401412e-01 -5.972835e-01 -7.951025e-01 -7.675624e-01   \n",
       "50%           -1.760948e-01 -6.289785e-02 -1.592246e-01  3.312687e-02   \n",
       "75%            6.095413e-01  6.291754e-01  4.939560e-01  7.131644e-01   \n",
       "max            2.402403e+00  3.485073e+00  3.435432e+00  3.301694e+00   \n",
       "\n",
       "                 OD       Proline  Log_Malic.acid        Log_Mg  \n",
       "count  1.780000e+02  1.780000e+02    1.780000e+02  1.780000e+02  \n",
       "mean   2.919013e-16 -7.484650e-18   -1.871162e-17  6.820387e-16  \n",
       "std    1.002821e+00  1.002821e+00    1.002821e+00  1.002821e+00  \n",
       "min   -1.895054e+00 -1.493188e+00   -2.329931e+00 -2.528911e+00  \n",
       "25%   -9.522483e-01 -7.846378e-01   -6.090997e-01 -8.492551e-01  \n",
       "50%    2.377348e-01 -2.337204e-01   -2.712520e-01 -5.926561e-02  \n",
       "75%    7.885875e-01  7.582494e-01    8.477374e-01  5.856208e-01  \n",
       "max    1.960915e+00  2.971473e+00    2.255655e+00  3.629939e+00  "
      ]
     },
     "execution_count": 25,
     "metadata": {},
     "output_type": "execute_result"
    }
   ],
   "source": [
    "# Show statistics of numeric variables in dataset\n",
    "wines_prepared.describe()"
   ]
  },
  {
   "cell_type": "markdown",
   "metadata": {},
   "source": [
    "<img align=\"left\" src='https://drive.google.com/uc?export=view&id=0B08uY8vosNfoeUJ4NUxtMlVNNnM' style=\"width: 60px; height: 60px;\"><br /><br />\n",
    "Questions: \n",
    "- What is the mean and std dev of each variable?\n",
    "- Why do we standardize (scale) all the variables?\n",
    "- When we do transformation, do we tranform all the variables? "
   ]
  },
  {
   "cell_type": "markdown",
   "metadata": {},
   "source": [
    "Put your answer below:\n",
    "\n",
    "    - For all variables, the mean is 0 (very close to) and the standard deviation is 1 (very close to).\n",
    "    - This makes sense, since the point of standardization is to put all variables on the same scale for fair comparison, therefore we do it to all variables.\n",
    "    - Transformation is only done on some variables (those that were very skewed)."
   ]
  },
  {
   "cell_type": "markdown",
   "metadata": {},
   "source": [
    "**How do the histograms look after transformation and scaling?**"
   ]
  },
  {
   "cell_type": "code",
   "execution_count": 26,
   "metadata": {},
   "outputs": [
    {
     "data": {
      "image/png": "[encoded data removed]",
      "text/plain": [
       "<Figure size 1080x1080 with 16 Axes>"
      ]
     },
     "metadata": {
      "needs_background": "light"
     },
     "output_type": "display_data"
    }
   ],
   "source": [
    "# Show histograms of all numeric variables in the dataset\n",
    "wines_prepared.hist(figsize= (15,15))\n",
    "plt.tight_layout()\n",
    "plt.show()"
   ]
  },
  {
   "cell_type": "markdown",
   "metadata": {},
   "source": [
    "<img align=\"left\" src='https://drive.google.com/uc?export=view&id=0B08uY8vosNfoeUJ4NUxtMlVNNnM' style=\"width: 60px; height: 60px;\"><br /><br />\n",
    "Question:\n",
    "- Did the distribution change?\n"
   ]
  },
  {
   "cell_type": "markdown",
   "metadata": {},
   "source": [
    "Put your answer below:\n",
    "\n",
    "    - Standardization does NOT change the distribution of the data, it only changes the scale (x-axis values).\n",
    "    - The distribution only changes when we transform variables."
   ]
  },
  {
   "cell_type": "markdown",
   "metadata": {},
   "source": [
    "### 3. Modeling using KMeans\n",
    "\n",
    "#### 3.1 Finding value of k\n",
    "**We will use the transformed and scaled data in `wines_prepared` for clustering** <br>\n",
    "**Plot the Elbow curve for k = (1, 7) and find the suitable k.**"
   ]
  },
  {
   "cell_type": "code",
   "execution_count": 27,
   "metadata": {},
   "outputs": [],
   "source": [
    "# Prepare to perform k-means clustering\n",
    "from sklearn.cluster import KMeans"
   ]
  },
  {
   "cell_type": "code",
   "execution_count": 28,
   "metadata": {},
   "outputs": [
    {
     "name": "stderr",
     "output_type": "stream",
     "text": [
      "C:\\Users\\jasonchan\\Anaconda3\\lib\\site-packages\\sklearn\\cluster\\_kmeans.py:1382: UserWarning: KMeans is known to have a memory leak on Windows with MKL, when there are less chunks than available threads. You can avoid it by setting the environment variable OMP_NUM_THREADS=1.\n",
      "  warnings.warn(\n",
      "C:\\Users\\jasonchan\\Anaconda3\\lib\\site-packages\\sklearn\\cluster\\_kmeans.py:1382: UserWarning: KMeans is known to have a memory leak on Windows with MKL, when there are less chunks than available threads. You can avoid it by setting the environment variable OMP_NUM_THREADS=1.\n",
      "  warnings.warn(\n",
      "C:\\Users\\jasonchan\\Anaconda3\\lib\\site-packages\\sklearn\\cluster\\_kmeans.py:1382: UserWarning: KMeans is known to have a memory leak on Windows with MKL, when there are less chunks than available threads. You can avoid it by setting the environment variable OMP_NUM_THREADS=1.\n",
      "  warnings.warn(\n",
      "C:\\Users\\jasonchan\\Anaconda3\\lib\\site-packages\\sklearn\\cluster\\_kmeans.py:1382: UserWarning: KMeans is known to have a memory leak on Windows with MKL, when there are less chunks than available threads. You can avoid it by setting the environment variable OMP_NUM_THREADS=1.\n",
      "  warnings.warn(\n",
      "C:\\Users\\jasonchan\\Anaconda3\\lib\\site-packages\\sklearn\\cluster\\_kmeans.py:1382: UserWarning: KMeans is known to have a memory leak on Windows with MKL, when there are less chunks than available threads. You can avoid it by setting the environment variable OMP_NUM_THREADS=1.\n",
      "  warnings.warn(\n",
      "C:\\Users\\jasonchan\\Anaconda3\\lib\\site-packages\\sklearn\\cluster\\_kmeans.py:1382: UserWarning: KMeans is known to have a memory leak on Windows with MKL, when there are less chunks than available threads. You can avoid it by setting the environment variable OMP_NUM_THREADS=1.\n",
      "  warnings.warn(\n",
      "C:\\Users\\jasonchan\\Anaconda3\\lib\\site-packages\\sklearn\\cluster\\_kmeans.py:1382: UserWarning: KMeans is known to have a memory leak on Windows with MKL, when there are less chunks than available threads. You can avoid it by setting the environment variable OMP_NUM_THREADS=1.\n",
      "  warnings.warn(\n"
     ]
    }
   ],
   "source": [
    "# Calculate SSE for values 1 to 7 inclusive.\n",
    "# For our k-means clustering:\n",
    "#     - 'n_clusters': How many clusters (k)\n",
    "#     - 'max_iter': Maximum number of iterations to be run\n",
    "#     - 'tol': Tolerence (the smaller the value, the smaller a change from one iteration to the next to achieve convergence)\n",
    "#     - 'n_init': Number of clustering models, i.e. how many different initial states from which we create different\n",
    "#                    k-means models; the final results are shown for the best model with lowest inertia (SSE)\n",
    "#     - 'random_state': We choose a specific random state so that we have a fair comparison between different models\n",
    "SSE = []\n",
    "for i in range(1,8):\n",
    "    model_i = KMeans(n_clusters = i, max_iter=300, tol=0.0001, n_init=10, random_state=99)\n",
    "    model_i.fit(wines_prepared)\n",
    "    SSE.append(model_i.inertia_)"
   ]
  },
  {
   "cell_type": "code",
   "execution_count": 29,
   "metadata": {},
   "outputs": [
    {
     "data": {
      "text/plain": [
       "[2314.0,\n",
       " 1659.787650077193,\n",
       " 1272.237865682563,\n",
       " 1174.9615537022853,\n",
       " 1098.61787950913,\n",
       " 1048.0284178816382,\n",
       " 988.7704937362762]"
      ]
     },
     "execution_count": 29,
     "metadata": {},
     "output_type": "execute_result"
    }
   ],
   "source": [
    "# Show the SSE values\n",
    "SSE"
   ]
  },
  {
   "cell_type": "code",
   "execution_count": 30,
   "metadata": {},
   "outputs": [
    {
     "data": {
      "image/png": "[encoded data removed]",
      "text/plain": [
       "<Figure size 432x288 with 1 Axes>"
      ]
     },
     "metadata": {
      "needs_background": "light"
     },
     "output_type": "display_data"
    }
   ],
   "source": [
    "# Plot the elbow curve\n",
    "k = (range(1,8))\n",
    "plt.plot(k, SSE)\n",
    "\n",
    "# Add more information to plot.\n",
    "plt.title('Elbow curve')\n",
    "plt.xlabel('k')\n",
    "plt.ylabel('SSE')\n",
    "plt.grid(True)\n",
    "plt.show()"
   ]
  },
  {
   "cell_type": "markdown",
   "metadata": {},
   "source": [
    "#### 3.2 Perform clustering with selected k\n"
   ]
  },
  {
   "cell_type": "markdown",
   "metadata": {},
   "source": [
    "**Perform clustering with n_clusters = 3, random_state = 99. Use k = 3.**"
   ]
  },
  {
   "cell_type": "code",
   "execution_count": 31,
   "metadata": {},
   "outputs": [
    {
     "name": "stderr",
     "output_type": "stream",
     "text": [
      "C:\\Users\\jasonchan\\Anaconda3\\lib\\site-packages\\sklearn\\cluster\\_kmeans.py:1382: UserWarning: KMeans is known to have a memory leak on Windows with MKL, when there are less chunks than available threads. You can avoid it by setting the environment variable OMP_NUM_THREADS=1.\n",
      "  warnings.warn(\n"
     ]
    },
    {
     "data": {
      "text/html": [
       "<style>#sk-container-id-2 {color: black;background-color: white;}#sk-container-id-2 pre{padding: 0;}#sk-container-id-2 div.sk-toggleable {background-color: white;}#sk-container-id-2 label.sk-toggleable__label {cursor: pointer;display: block;width: 100%;margin-bottom: 0;padding: 0.3em;box-sizing: border-box;text-align: center;}#sk-container-id-2 label.sk-toggleable__label-arrow:before {content: \"▸\";float: left;margin-right: 0.25em;color: #696969;}#sk-container-id-2 label.sk-toggleable__label-arrow:hover:before {color: black;}#sk-container-id-2 div.sk-estimator:hover label.sk-toggleable__label-arrow:before {color: black;}#sk-container-id-2 div.sk-toggleable__content {max-height: 0;max-width: 0;overflow: hidden;text-align: left;background-color: #f0f8ff;}#sk-container-id-2 div.sk-toggleable__content pre {margin: 0.2em;color: black;border-radius: 0.25em;background-color: #f0f8ff;}#sk-container-id-2 input.sk-toggleable__control:checked~div.sk-toggleable__content {max-height: 200px;max-width: 100%;overflow: auto;}#sk-container-id-2 input.sk-toggleable__control:checked~label.sk-toggleable__label-arrow:before {content: \"▾\";}#sk-container-id-2 div.sk-estimator input.sk-toggleable__control:checked~label.sk-toggleable__label {background-color: #d4ebff;}#sk-container-id-2 div.sk-label input.sk-toggleable__control:checked~label.sk-toggleable__label {background-color: #d4ebff;}#sk-container-id-2 input.sk-hidden--visually {border: 0;clip: rect(1px 1px 1px 1px);clip: rect(1px, 1px, 1px, 1px);height: 1px;margin: -1px;overflow: hidden;padding: 0;position: absolute;width: 1px;}#sk-container-id-2 div.sk-estimator {font-family: monospace;background-color: #f0f8ff;border: 1px dotted black;border-radius: 0.25em;box-sizing: border-box;margin-bottom: 0.5em;}#sk-container-id-2 div.sk-estimator:hover {background-color: #d4ebff;}#sk-container-id-2 div.sk-parallel-item::after {content: \"\";width: 100%;border-bottom: 1px solid gray;flex-grow: 1;}#sk-container-id-2 div.sk-label:hover label.sk-toggleable__label {background-color: #d4ebff;}#sk-container-id-2 div.sk-serial::before {content: \"\";position: absolute;border-left: 1px solid gray;box-sizing: border-box;top: 0;bottom: 0;left: 50%;z-index: 0;}#sk-container-id-2 div.sk-serial {display: flex;flex-direction: column;align-items: center;background-color: white;padding-right: 0.2em;padding-left: 0.2em;position: relative;}#sk-container-id-2 div.sk-item {position: relative;z-index: 1;}#sk-container-id-2 div.sk-parallel {display: flex;align-items: stretch;justify-content: center;background-color: white;position: relative;}#sk-container-id-2 div.sk-item::before, #sk-container-id-2 div.sk-parallel-item::before {content: \"\";position: absolute;border-left: 1px solid gray;box-sizing: border-box;top: 0;bottom: 0;left: 50%;z-index: -1;}#sk-container-id-2 div.sk-parallel-item {display: flex;flex-direction: column;z-index: 1;position: relative;background-color: white;}#sk-container-id-2 div.sk-parallel-item:first-child::after {align-self: flex-end;width: 50%;}#sk-container-id-2 div.sk-parallel-item:last-child::after {align-self: flex-start;width: 50%;}#sk-container-id-2 div.sk-parallel-item:only-child::after {width: 0;}#sk-container-id-2 div.sk-dashed-wrapped {border: 1px dashed gray;margin: 0 0.4em 0.5em 0.4em;box-sizing: border-box;padding-bottom: 0.4em;background-color: white;}#sk-container-id-2 div.sk-label label {font-family: monospace;font-weight: bold;display: inline-block;line-height: 1.2em;}#sk-container-id-2 div.sk-label-container {text-align: center;}#sk-container-id-2 div.sk-container {/* jupyter's `normalize.less` sets `[hidden] { display: none; }` but bootstrap.min.css set `[hidden] { display: none !important; }` so we also need the `!important` here to be able to override the default hidden behavior on the sphinx rendered scikit-learn.org. See: https://github.com/scikit-learn/scikit-learn/issues/21755 */display: inline-block !important;position: relative;}#sk-container-id-2 div.sk-text-repr-fallback {display: none;}</style><div id=\"sk-container-id-2\" class=\"sk-top-container\"><div class=\"sk-text-repr-fallback\"><pre>KMeans(n_clusters=3, n_init=10, random_state=99)</pre><b>In a Jupyter environment, please rerun this cell to show the HTML representation or trust the notebook. <br />On GitHub, the HTML representation is unable to render, please try loading this page with nbviewer.org.</b></div><div class=\"sk-container\" hidden><div class=\"sk-item\"><div class=\"sk-estimator sk-toggleable\"><input class=\"sk-toggleable__control sk-hidden--visually\" id=\"sk-estimator-id-2\" type=\"checkbox\" checked><label for=\"sk-estimator-id-2\" class=\"sk-toggleable__label sk-toggleable__label-arrow\">KMeans</label><div class=\"sk-toggleable__content\"><pre>KMeans(n_clusters=3, n_init=10, random_state=99)</pre></div></div></div></div></div>"
      ],
      "text/plain": [
       "KMeans(n_clusters=3, n_init=10, random_state=99)"
      ]
     },
     "execution_count": 31,
     "metadata": {},
     "output_type": "execute_result"
    }
   ],
   "source": [
    "# Run k-means clustering with 3 clusters\n",
    "model = KMeans(n_clusters = 3, max_iter=300, tol=0.0001, n_init=10, random_state=99)\n",
    "model.fit(wines_prepared)"
   ]
  },
  {
   "cell_type": "code",
   "execution_count": 32,
   "metadata": {},
   "outputs": [
    {
     "name": "stdout",
     "output_type": "stream",
     "text": [
      "Attributes of the clustering solution for k=3:\n",
      "SSE : 1272.2\n",
      "Num of iterations : 7\n",
      "\n",
      "Cluster centers : [[ 0.16490746  0.18689833  0.52436746 -0.97933029 -1.21524764  0.72606354\n",
      "  -0.77970639  0.94153874 -1.16478865 -1.29241163 -0.40708796  0.86570474\n",
      "  -0.05379777]\n",
      " [ 0.83523208  0.36470604 -0.61019129  0.88523736  0.97781956 -0.56208965\n",
      "   0.58028658  0.17106348  0.47398365  0.77924711  1.12518529 -0.20924313\n",
      "   0.60221578]\n",
      " [-0.92607185 -0.49451676  0.17060184 -0.07598265  0.02081257 -0.03353357\n",
      "   0.0582655  -0.90191402  0.46180361  0.27076419 -0.75384618 -0.47965951\n",
      "  -0.53221065]]\n"
     ]
    }
   ],
   "source": [
    "# Print the SSE, number of interations run, and the centroids\n",
    "print(\"Attributes of the clustering solution for k=3:\")\n",
    "print(\"SSE :\", round(model.inertia_, 1))\n",
    "print(\"Num of iterations :\" , model.n_iter_)\n",
    "print(\"\\nCluster centers :\" , model.cluster_centers_)"
   ]
  },
  {
   "cell_type": "markdown",
   "metadata": {},
   "source": [
    "<img align=\"left\" src='https://drive.google.com/uc?export=view&id=0B08uY8vosNfoeUJ4NUxtMlVNNnM' style=\"width: 60px; height: 60px;\"><br /><br />\n",
    "Questions: \n",
    "- Did the clustering solution converge?\n",
    "- State why. "
   ]
  },
  {
   "cell_type": "markdown",
   "metadata": {},
   "source": [
    "Put your answer below:\n",
    "\n",
    "    - Yes, convergence was reached because k-means only ran for 5 iterations, which is less than max_iter = 300 (default value)."
   ]
  },
  {
   "cell_type": "markdown",
   "metadata": {},
   "source": [
    "### 4. Cluster Evaluation and Profiling (Interpretation)"
   ]
  },
  {
   "cell_type": "markdown",
   "metadata": {},
   "source": [
    "#### 4.1 Cluster Evaluation"
   ]
  },
  {
   "cell_type": "code",
   "execution_count": 33,
   "metadata": {},
   "outputs": [
    {
     "name": "stdout",
     "output_type": "stream",
     "text": [
      "The improvement of SSE due to clustering (k=3) is: 45.02%\n"
     ]
    }
   ],
   "source": [
    "# Compare the improvement of clustering by the measure of the total variance \n",
    "# Note: If k = 1, there is no clustering\n",
    "# hence Total SSE is given by the inertia of the model when k=1\n",
    "between_ss = SSE[0] - model.inertia_\n",
    "improvement = (between_ss / SSE[0])*100\n",
    "print('The improvement of SSE due to clustering (k=3) is: ' + str(round(improvement,2)) + '%')"
   ]
  },
  {
   "cell_type": "markdown",
   "metadata": {},
   "source": [
    "The clustering brings some improvement. But this improvement only considers the <b>cohesion within the clusters</b>. By increasing k, one can achieve a better improvement, but the clusters may not be well separated.\n",
    "\n",
    "The <b>silhouette score</b> takes into consideration both the <b>cohesion</b> and <b>separation</b>."
   ]
  },
  {
   "cell_type": "markdown",
   "metadata": {},
   "source": [
    "[Optional] \n",
    "The <b>silhouette score</b> is a measure of <b>how similar an object is to its own cluster</b> (cohesion) <b>compared to other clusters</b> (separation).<br />\n",
    "- The silhouette ranges from −1 to +1, where a high value indicates that the data is appropriately clustered. <br />\n",
    "- A value close to 0 means that there may be overlapping clusters. \n",
    "- If the score is negative, then it may mean poor clustering performance.\n",
    "\n",
    "https://scikit-learn.org/stable/modules/generated/sklearn.metrics.silhouette_score.html"
   ]
  },
  {
   "cell_type": "code",
   "execution_count": 34,
   "metadata": {},
   "outputs": [
    {
     "data": {
      "text/plain": [
       "0.28884757172641357"
      ]
     },
     "execution_count": 34,
     "metadata": {},
     "output_type": "execute_result"
    }
   ],
   "source": [
    "# (FYI ONLY - will not be tested)\n",
    "#================================\n",
    "\n",
    "# Prepare to use silhouette score\n",
    "from sklearn.metrics import silhouette_score\n",
    "\n",
    "# Calculate silhouette score of the model\n",
    "silhouette_score(wines_prepared, model.labels_)"
   ]
  },
  {
   "cell_type": "markdown",
   "metadata": {},
   "source": [
    "**Store the cluster labels in a new column named 'cluster' in the `wines` dataframe** <br>\n",
    "Print the counts of number of observations per cluster"
   ]
  },
  {
   "cell_type": "code",
   "execution_count": 35,
   "metadata": {},
   "outputs": [],
   "source": [
    "# Add a new \"cluster\" column to the original wines dataset,\n",
    "# to indicate in which cluster each record belongs to\n",
    "wines['cluster'] = model.labels_"
   ]
  },
  {
   "cell_type": "code",
   "execution_count": 36,
   "metadata": {},
   "outputs": [
    {
     "data": {
      "text/html": [
       "<div>\n",
       "<style scoped>\n",
       "    .dataframe tbody tr th:only-of-type {\n",
       "        vertical-align: middle;\n",
       "    }\n",
       "\n",
       "    .dataframe tbody tr th {\n",
       "        vertical-align: top;\n",
       "    }\n",
       "\n",
       "    .dataframe thead th {\n",
       "        text-align: right;\n",
       "    }\n",
       "</style>\n",
       "<table border=\"1\" class=\"dataframe\">\n",
       "  <thead>\n",
       "    <tr style=\"text-align: right;\">\n",
       "      <th></th>\n",
       "      <th>Alcohol</th>\n",
       "      <th>Malic.acid</th>\n",
       "      <th>Ash</th>\n",
       "      <th>Acl</th>\n",
       "      <th>Mg</th>\n",
       "      <th>Phenols</th>\n",
       "      <th>Flavanoids</th>\n",
       "      <th>Nonflavanoid.phenols</th>\n",
       "      <th>Proanth</th>\n",
       "      <th>Color.int</th>\n",
       "      <th>Hue</th>\n",
       "      <th>OD</th>\n",
       "      <th>Proline</th>\n",
       "      <th>Log_Malic.acid</th>\n",
       "      <th>Log_Mg</th>\n",
       "      <th>cluster</th>\n",
       "    </tr>\n",
       "  </thead>\n",
       "  <tbody>\n",
       "    <tr>\n",
       "      <th>0</th>\n",
       "      <td>14.23</td>\n",
       "      <td>1.71</td>\n",
       "      <td>2.43</td>\n",
       "      <td>15.6</td>\n",
       "      <td>127</td>\n",
       "      <td>2.80</td>\n",
       "      <td>3.06</td>\n",
       "      <td>0.28</td>\n",
       "      <td>2.29</td>\n",
       "      <td>5.64</td>\n",
       "      <td>1.04</td>\n",
       "      <td>3.92</td>\n",
       "      <td>1065</td>\n",
       "      <td>0.536493</td>\n",
       "      <td>4.844187</td>\n",
       "      <td>1</td>\n",
       "    </tr>\n",
       "    <tr>\n",
       "      <th>1</th>\n",
       "      <td>13.20</td>\n",
       "      <td>1.78</td>\n",
       "      <td>2.14</td>\n",
       "      <td>11.2</td>\n",
       "      <td>100</td>\n",
       "      <td>2.65</td>\n",
       "      <td>2.76</td>\n",
       "      <td>0.26</td>\n",
       "      <td>1.28</td>\n",
       "      <td>4.38</td>\n",
       "      <td>1.05</td>\n",
       "      <td>3.40</td>\n",
       "      <td>1050</td>\n",
       "      <td>0.576613</td>\n",
       "      <td>4.605170</td>\n",
       "      <td>1</td>\n",
       "    </tr>\n",
       "    <tr>\n",
       "      <th>2</th>\n",
       "      <td>13.16</td>\n",
       "      <td>2.36</td>\n",
       "      <td>2.67</td>\n",
       "      <td>18.6</td>\n",
       "      <td>101</td>\n",
       "      <td>2.80</td>\n",
       "      <td>3.24</td>\n",
       "      <td>0.30</td>\n",
       "      <td>2.81</td>\n",
       "      <td>5.68</td>\n",
       "      <td>1.03</td>\n",
       "      <td>3.17</td>\n",
       "      <td>1185</td>\n",
       "      <td>0.858662</td>\n",
       "      <td>4.615121</td>\n",
       "      <td>1</td>\n",
       "    </tr>\n",
       "    <tr>\n",
       "      <th>3</th>\n",
       "      <td>14.37</td>\n",
       "      <td>1.95</td>\n",
       "      <td>2.50</td>\n",
       "      <td>16.8</td>\n",
       "      <td>113</td>\n",
       "      <td>3.85</td>\n",
       "      <td>3.49</td>\n",
       "      <td>0.24</td>\n",
       "      <td>2.18</td>\n",
       "      <td>7.80</td>\n",
       "      <td>0.86</td>\n",
       "      <td>3.45</td>\n",
       "      <td>1480</td>\n",
       "      <td>0.667829</td>\n",
       "      <td>4.727388</td>\n",
       "      <td>1</td>\n",
       "    </tr>\n",
       "    <tr>\n",
       "      <th>4</th>\n",
       "      <td>13.24</td>\n",
       "      <td>2.59</td>\n",
       "      <td>2.87</td>\n",
       "      <td>21.0</td>\n",
       "      <td>118</td>\n",
       "      <td>2.80</td>\n",
       "      <td>2.69</td>\n",
       "      <td>0.39</td>\n",
       "      <td>1.82</td>\n",
       "      <td>4.32</td>\n",
       "      <td>1.04</td>\n",
       "      <td>2.93</td>\n",
       "      <td>735</td>\n",
       "      <td>0.951658</td>\n",
       "      <td>4.770685</td>\n",
       "      <td>1</td>\n",
       "    </tr>\n",
       "  </tbody>\n",
       "</table>\n",
       "</div>"
      ],
      "text/plain": [
       "   Alcohol  Malic.acid   Ash   Acl   Mg  Phenols  Flavanoids  \\\n",
       "0    14.23        1.71  2.43  15.6  127     2.80        3.06   \n",
       "1    13.20        1.78  2.14  11.2  100     2.65        2.76   \n",
       "2    13.16        2.36  2.67  18.6  101     2.80        3.24   \n",
       "3    14.37        1.95  2.50  16.8  113     3.85        3.49   \n",
       "4    13.24        2.59  2.87  21.0  118     2.80        2.69   \n",
       "\n",
       "   Nonflavanoid.phenols  Proanth  Color.int   Hue    OD  Proline  \\\n",
       "0                  0.28     2.29       5.64  1.04  3.92     1065   \n",
       "1                  0.26     1.28       4.38  1.05  3.40     1050   \n",
       "2                  0.30     2.81       5.68  1.03  3.17     1185   \n",
       "3                  0.24     2.18       7.80  0.86  3.45     1480   \n",
       "4                  0.39     1.82       4.32  1.04  2.93      735   \n",
       "\n",
       "   Log_Malic.acid    Log_Mg  cluster  \n",
       "0        0.536493  4.844187        1  \n",
       "1        0.576613  4.605170        1  \n",
       "2        0.858662  4.615121        1  \n",
       "3        0.667829  4.727388        1  \n",
       "4        0.951658  4.770685        1  "
      ]
     },
     "execution_count": 36,
     "metadata": {},
     "output_type": "execute_result"
    }
   ],
   "source": [
    "# Show first 5 rows of dataset\n",
    "wines.head()"
   ]
  },
  {
   "cell_type": "code",
   "execution_count": 37,
   "metadata": {},
   "outputs": [
    {
     "data": {
      "text/plain": [
       "2    65\n",
       "1    62\n",
       "0    51\n",
       "Name: cluster, dtype: int64"
      ]
     },
     "execution_count": 37,
     "metadata": {},
     "output_type": "execute_result"
    }
   ],
   "source": [
    "# Show all possible \"cluster\" values, and how often each one occurs\n",
    "wines['cluster'].value_counts()"
   ]
  },
  {
   "cell_type": "markdown",
   "metadata": {},
   "source": [
    "The observations are relatively well distributed across the clusters."
   ]
  },
  {
   "cell_type": "markdown",
   "metadata": {},
   "source": [
    "#### 4.2 Cluster Profiling (Interpretation)"
   ]
  },
  {
   "cell_type": "markdown",
   "metadata": {},
   "source": [
    "**Plot the cluster centroids as given by the model. This helps us check the variable properties per cluster :**"
   ]
  },
  {
   "cell_type": "code",
   "execution_count": 38,
   "metadata": {},
   "outputs": [
    {
     "data": {
      "text/plain": [
       "array([[ 0.16490746,  0.18689833,  0.52436746, -0.97933029, -1.21524764,\n",
       "         0.72606354, -0.77970639,  0.94153874, -1.16478865, -1.29241163,\n",
       "        -0.40708796,  0.86570474, -0.05379777],\n",
       "       [ 0.83523208,  0.36470604, -0.61019129,  0.88523736,  0.97781956,\n",
       "        -0.56208965,  0.58028658,  0.17106348,  0.47398365,  0.77924711,\n",
       "         1.12518529, -0.20924313,  0.60221578],\n",
       "       [-0.92607185, -0.49451676,  0.17060184, -0.07598265,  0.02081257,\n",
       "        -0.03353357,  0.0582655 , -0.90191402,  0.46180361,  0.27076419,\n",
       "        -0.75384618, -0.47965951, -0.53221065]])"
      ]
     },
     "execution_count": 38,
     "metadata": {},
     "output_type": "execute_result"
    }
   ],
   "source": [
    "# Show cluster centroids\n",
    "model.cluster_centers_"
   ]
  },
  {
   "cell_type": "code",
   "execution_count": 39,
   "metadata": {},
   "outputs": [
    {
     "data": {
      "text/html": [
       "<div>\n",
       "<style scoped>\n",
       "    .dataframe tbody tr th:only-of-type {\n",
       "        vertical-align: middle;\n",
       "    }\n",
       "\n",
       "    .dataframe tbody tr th {\n",
       "        vertical-align: top;\n",
       "    }\n",
       "\n",
       "    .dataframe thead th {\n",
       "        text-align: right;\n",
       "    }\n",
       "</style>\n",
       "<table border=\"1\" class=\"dataframe\">\n",
       "  <thead>\n",
       "    <tr style=\"text-align: right;\">\n",
       "      <th></th>\n",
       "      <th>Alcohol</th>\n",
       "      <th>Ash</th>\n",
       "      <th>Acl</th>\n",
       "      <th>Phenols</th>\n",
       "      <th>Flavanoids</th>\n",
       "      <th>Nonflavanoid.phenols</th>\n",
       "      <th>Proanth</th>\n",
       "      <th>Color.int</th>\n",
       "      <th>Hue</th>\n",
       "      <th>OD</th>\n",
       "      <th>Proline</th>\n",
       "      <th>Log_Malic.acid</th>\n",
       "      <th>Log_Mg</th>\n",
       "    </tr>\n",
       "  </thead>\n",
       "  <tbody>\n",
       "    <tr>\n",
       "      <th>0</th>\n",
       "      <td>0.164907</td>\n",
       "      <td>0.186898</td>\n",
       "      <td>0.524367</td>\n",
       "      <td>-0.979330</td>\n",
       "      <td>-1.215248</td>\n",
       "      <td>0.726064</td>\n",
       "      <td>-0.779706</td>\n",
       "      <td>0.941539</td>\n",
       "      <td>-1.164789</td>\n",
       "      <td>-1.292412</td>\n",
       "      <td>-0.407088</td>\n",
       "      <td>0.865705</td>\n",
       "      <td>-0.053798</td>\n",
       "    </tr>\n",
       "    <tr>\n",
       "      <th>1</th>\n",
       "      <td>0.835232</td>\n",
       "      <td>0.364706</td>\n",
       "      <td>-0.610191</td>\n",
       "      <td>0.885237</td>\n",
       "      <td>0.977820</td>\n",
       "      <td>-0.562090</td>\n",
       "      <td>0.580287</td>\n",
       "      <td>0.171063</td>\n",
       "      <td>0.473984</td>\n",
       "      <td>0.779247</td>\n",
       "      <td>1.125185</td>\n",
       "      <td>-0.209243</td>\n",
       "      <td>0.602216</td>\n",
       "    </tr>\n",
       "    <tr>\n",
       "      <th>2</th>\n",
       "      <td>-0.926072</td>\n",
       "      <td>-0.494517</td>\n",
       "      <td>0.170602</td>\n",
       "      <td>-0.075983</td>\n",
       "      <td>0.020813</td>\n",
       "      <td>-0.033534</td>\n",
       "      <td>0.058266</td>\n",
       "      <td>-0.901914</td>\n",
       "      <td>0.461804</td>\n",
       "      <td>0.270764</td>\n",
       "      <td>-0.753846</td>\n",
       "      <td>-0.479660</td>\n",
       "      <td>-0.532211</td>\n",
       "    </tr>\n",
       "  </tbody>\n",
       "</table>\n",
       "</div>"
      ],
      "text/plain": [
       "    Alcohol       Ash       Acl   Phenols  Flavanoids  Nonflavanoid.phenols  \\\n",
       "0  0.164907  0.186898  0.524367 -0.979330   -1.215248              0.726064   \n",
       "1  0.835232  0.364706 -0.610191  0.885237    0.977820             -0.562090   \n",
       "2 -0.926072 -0.494517  0.170602 -0.075983    0.020813             -0.033534   \n",
       "\n",
       "    Proanth  Color.int       Hue        OD   Proline  Log_Malic.acid    Log_Mg  \n",
       "0 -0.779706   0.941539 -1.164789 -1.292412 -0.407088        0.865705 -0.053798  \n",
       "1  0.580287   0.171063  0.473984  0.779247  1.125185       -0.209243  0.602216  \n",
       "2  0.058266  -0.901914  0.461804  0.270764 -0.753846       -0.479660 -0.532211  "
      ]
     },
     "execution_count": 39,
     "metadata": {},
     "output_type": "execute_result"
    }
   ],
   "source": [
    "# Create a DataFrame of cluster centroids.\n",
    "# Each row corresponds to a cluster centroid, so row 0 corresponds to cluster label = 0, etc.\n",
    "clust_means = pd.DataFrame(model.cluster_centers_, columns=wines_prepared.columns)\n",
    "clust_means"
   ]
  },
  {
   "cell_type": "markdown",
   "metadata": {},
   "source": [
    "It is not trivial to analyse the profile of the clusters with those 13 variables. So we suggest to draw a heatmap."
   ]
  },
  {
   "cell_type": "markdown",
   "metadata": {},
   "source": [
    "##### Seaborn heatmap for profiling using centroid method"
   ]
  },
  {
   "cell_type": "code",
   "execution_count": 40,
   "metadata": {},
   "outputs": [],
   "source": [
    "# Prepare to generate heatmap\n",
    "import seaborn as sns"
   ]
  },
  {
   "cell_type": "code",
   "execution_count": 41,
   "metadata": {},
   "outputs": [
    {
     "data": {
      "text/plain": [
       "<AxesSubplot:>"
      ]
     },
     "execution_count": 41,
     "metadata": {},
     "output_type": "execute_result"
    },
    {
     "data": {
      "image/png": "[encoded data removed]",
      "text/plain": [
       "<Figure size 432x288 with 2 Axes>"
      ]
     },
     "metadata": {
      "needs_background": "light"
     },
     "output_type": "display_data"
    }
   ],
   "source": [
    "# Show heatmap of clusters.\n",
    "# \"clust_means.T\" means that we will transpose the 'clust_means' DataFrame,\n",
    "# so that the rows become columns, and the columns become rows.\n",
    "# Each column is a cluster centroid,\n",
    "# each row is a variable in the dataset,\n",
    "# and the average value is represented as a color\n",
    "sns.heatmap(clust_means.T,  linewidths=.5, cmap=\"YlGnBu\")"
   ]
  },
  {
   "cell_type": "markdown",
   "metadata": {},
   "source": [
    "**Cluster interpretation**<br>\n",
    "The above cluster composition indicates that some cultivars have specific chemical signatures. \n",
    "\n",
    "For instance, based on the centroids: \n",
    "\n",
    "- <b>Cluster 0</b> has very high Malic Acid, nonflavanoid phenols, strong color intensity and Alcalinity (Acl). <br />\n",
    "The wines of this cluster have reasonably high Magnesium, Ash and Alcohol levels. \n",
    "\n",
    "- <b>Cluster 1</b> is characterized by very high alcohol, flavanoids, and proline levels. <br />\n",
    "Most other chemical components are above the average range, except for Alcalinity (Acl) and Nonflavanoid phenols.\n",
    "\n",
    "- <b>Cluster 2</b> is characterized by most variables having low or average values, with the exception of high values of Hue. \n"
   ]
  },
  {
   "cell_type": "markdown",
   "metadata": {},
   "source": [
    "Note: the cluster numbers may differ on your own laptop."
   ]
  },
  {
   "cell_type": "markdown",
   "metadata": {},
   "source": [
    "#### Practice. Cluster based question:"
   ]
  },
  {
   "cell_type": "code",
   "execution_count": 42,
   "metadata": {},
   "outputs": [
    {
     "data": {
      "text/plain": [
       "cluster\n",
       "0     619.058824\n",
       "1    1100.225806\n",
       "2     510.169231\n",
       "Name: Proline, dtype: float64"
      ]
     },
     "execution_count": 42,
     "metadata": {},
     "output_type": "execute_result"
    }
   ],
   "source": [
    "# Show average value of Proline in the cluster with 62 observations, using the wines dataset\n",
    "\n",
    "# Method 1\n",
    "wines.groupby('cluster')['Proline'].mean()"
   ]
  },
  {
   "cell_type": "code",
   "execution_count": 43,
   "metadata": {},
   "outputs": [
    {
     "data": {
      "text/plain": [
       "510.17"
      ]
     },
     "execution_count": 43,
     "metadata": {},
     "output_type": "execute_result"
    }
   ],
   "source": [
    "# Method 2\n",
    "round(wines[wines['cluster'] == 2]['Proline'].mean(), 2)"
   ]
  },
  {
   "cell_type": "markdown",
   "metadata": {},
   "source": [
    "## Part 5 & 6 will be optional (will not be tested)"
   ]
  },
  {
   "cell_type": "markdown",
   "metadata": {},
   "source": [
    "### 5. Weighting\n"
   ]
  },
  {
   "cell_type": "markdown",
   "metadata": {},
   "source": [
    "We will illustrate the use of weighting on a selected variable. \n",
    "<br />Suppose a customer wants to buy a wine with a higher level of Magnesium. We want to select the right wine for that customer. \n",
    "So we are going to add a weight to the variable representing Magnesium."
   ]
  },
  {
   "cell_type": "code",
   "execution_count": 44,
   "metadata": {},
   "outputs": [],
   "source": [
    "# Create a separate DataFrame, copied from 'wines_prepared'\n",
    "wines_weighted = pd.DataFrame(wines_prepared, columns=wines_prepared.columns)"
   ]
  },
  {
   "cell_type": "code",
   "execution_count": 45,
   "metadata": {},
   "outputs": [
    {
     "data": {
      "text/html": [
       "<div>\n",
       "<style scoped>\n",
       "    .dataframe tbody tr th:only-of-type {\n",
       "        vertical-align: middle;\n",
       "    }\n",
       "\n",
       "    .dataframe tbody tr th {\n",
       "        vertical-align: top;\n",
       "    }\n",
       "\n",
       "    .dataframe thead th {\n",
       "        text-align: right;\n",
       "    }\n",
       "</style>\n",
       "<table border=\"1\" class=\"dataframe\">\n",
       "  <thead>\n",
       "    <tr style=\"text-align: right;\">\n",
       "      <th></th>\n",
       "      <th>Alcohol</th>\n",
       "      <th>Ash</th>\n",
       "      <th>Acl</th>\n",
       "      <th>Phenols</th>\n",
       "      <th>Flavanoids</th>\n",
       "      <th>Nonflavanoid.phenols</th>\n",
       "      <th>Proanth</th>\n",
       "      <th>Color.int</th>\n",
       "      <th>Hue</th>\n",
       "      <th>OD</th>\n",
       "      <th>Proline</th>\n",
       "      <th>Log_Malic.acid</th>\n",
       "      <th>Log_Mg</th>\n",
       "      <th>Log_Mg_Wt</th>\n",
       "    </tr>\n",
       "  </thead>\n",
       "  <tbody>\n",
       "    <tr>\n",
       "      <th>0</th>\n",
       "      <td>1.518613</td>\n",
       "      <td>0.232053</td>\n",
       "      <td>-1.169593</td>\n",
       "      <td>0.808997</td>\n",
       "      <td>1.034819</td>\n",
       "      <td>-0.659563</td>\n",
       "      <td>1.224884</td>\n",
       "      <td>0.251717</td>\n",
       "      <td>0.362177</td>\n",
       "      <td>1.847920</td>\n",
       "      <td>1.013009</td>\n",
       "      <td>-0.464487</td>\n",
       "      <td>1.843359</td>\n",
       "      <td>7.373437</td>\n",
       "    </tr>\n",
       "    <tr>\n",
       "      <th>1</th>\n",
       "      <td>0.246290</td>\n",
       "      <td>-0.827996</td>\n",
       "      <td>-2.490847</td>\n",
       "      <td>0.568648</td>\n",
       "      <td>0.733629</td>\n",
       "      <td>-0.820719</td>\n",
       "      <td>-0.544721</td>\n",
       "      <td>-0.293321</td>\n",
       "      <td>0.406051</td>\n",
       "      <td>1.113449</td>\n",
       "      <td>0.965242</td>\n",
       "      <td>-0.375135</td>\n",
       "      <td>0.089019</td>\n",
       "      <td>0.356074</td>\n",
       "    </tr>\n",
       "    <tr>\n",
       "      <th>2</th>\n",
       "      <td>0.196879</td>\n",
       "      <td>1.109334</td>\n",
       "      <td>-0.268738</td>\n",
       "      <td>0.808997</td>\n",
       "      <td>1.215533</td>\n",
       "      <td>-0.498407</td>\n",
       "      <td>2.135968</td>\n",
       "      <td>0.269020</td>\n",
       "      <td>0.318304</td>\n",
       "      <td>0.788587</td>\n",
       "      <td>1.395148</td>\n",
       "      <td>0.253025</td>\n",
       "      <td>0.162052</td>\n",
       "      <td>0.648209</td>\n",
       "    </tr>\n",
       "    <tr>\n",
       "      <th>3</th>\n",
       "      <td>1.691550</td>\n",
       "      <td>0.487926</td>\n",
       "      <td>-0.809251</td>\n",
       "      <td>2.491446</td>\n",
       "      <td>1.466525</td>\n",
       "      <td>-0.981875</td>\n",
       "      <td>1.032155</td>\n",
       "      <td>1.186068</td>\n",
       "      <td>-0.427544</td>\n",
       "      <td>1.184071</td>\n",
       "      <td>2.334574</td>\n",
       "      <td>-0.171984</td>\n",
       "      <td>0.986074</td>\n",
       "      <td>3.944295</td>\n",
       "    </tr>\n",
       "    <tr>\n",
       "      <th>4</th>\n",
       "      <td>0.295700</td>\n",
       "      <td>1.840403</td>\n",
       "      <td>0.451946</td>\n",
       "      <td>0.808997</td>\n",
       "      <td>0.663351</td>\n",
       "      <td>0.226796</td>\n",
       "      <td>0.401404</td>\n",
       "      <td>-0.319276</td>\n",
       "      <td>0.362177</td>\n",
       "      <td>0.449601</td>\n",
       "      <td>-0.037874</td>\n",
       "      <td>0.460140</td>\n",
       "      <td>1.303865</td>\n",
       "      <td>5.215458</td>\n",
       "    </tr>\n",
       "  </tbody>\n",
       "</table>\n",
       "</div>"
      ],
      "text/plain": [
       "    Alcohol       Ash       Acl   Phenols  Flavanoids  Nonflavanoid.phenols  \\\n",
       "0  1.518613  0.232053 -1.169593  0.808997    1.034819             -0.659563   \n",
       "1  0.246290 -0.827996 -2.490847  0.568648    0.733629             -0.820719   \n",
       "2  0.196879  1.109334 -0.268738  0.808997    1.215533             -0.498407   \n",
       "3  1.691550  0.487926 -0.809251  2.491446    1.466525             -0.981875   \n",
       "4  0.295700  1.840403  0.451946  0.808997    0.663351              0.226796   \n",
       "\n",
       "    Proanth  Color.int       Hue        OD   Proline  Log_Malic.acid  \\\n",
       "0  1.224884   0.251717  0.362177  1.847920  1.013009       -0.464487   \n",
       "1 -0.544721  -0.293321  0.406051  1.113449  0.965242       -0.375135   \n",
       "2  2.135968   0.269020  0.318304  0.788587  1.395148        0.253025   \n",
       "3  1.032155   1.186068 -0.427544  1.184071  2.334574       -0.171984   \n",
       "4  0.401404  -0.319276  0.362177  0.449601 -0.037874        0.460140   \n",
       "\n",
       "     Log_Mg  Log_Mg_Wt  \n",
       "0  1.843359   7.373437  \n",
       "1  0.089019   0.356074  \n",
       "2  0.162052   0.648209  \n",
       "3  0.986074   3.944295  \n",
       "4  1.303865   5.215458  "
      ]
     },
     "execution_count": 45,
     "metadata": {},
     "output_type": "execute_result"
    }
   ],
   "source": [
    "# Weight the 'Log_Mg' variable by 4, meaning that we consider it 4 times more important than other variables.\n",
    "# We will create a new variable 'Log_Mg_Wt' to store these weighted values\n",
    "wgt = 4\n",
    "wines_weighted['Log_Mg_Wt'] = wines_weighted['Log_Mg']*wgt\n",
    "wines_weighted.head()"
   ]
  },
  {
   "cell_type": "code",
   "execution_count": 46,
   "metadata": {},
   "outputs": [],
   "source": [
    "# Remove the old 'Log_Mg' unweighted variable\n",
    "wines_weighted = wines_weighted.drop(['Log_Mg'], axis = 1)"
   ]
  },
  {
   "cell_type": "code",
   "execution_count": 47,
   "metadata": {},
   "outputs": [
    {
     "name": "stderr",
     "output_type": "stream",
     "text": [
      "C:\\Users\\jasonchan\\Anaconda3\\lib\\site-packages\\sklearn\\cluster\\_kmeans.py:1382: UserWarning: KMeans is known to have a memory leak on Windows with MKL, when there are less chunks than available threads. You can avoid it by setting the environment variable OMP_NUM_THREADS=1.\n",
      "  warnings.warn(\n"
     ]
    },
    {
     "data": {
      "text/html": [
       "<style>#sk-container-id-3 {color: black;background-color: white;}#sk-container-id-3 pre{padding: 0;}#sk-container-id-3 div.sk-toggleable {background-color: white;}#sk-container-id-3 label.sk-toggleable__label {cursor: pointer;display: block;width: 100%;margin-bottom: 0;padding: 0.3em;box-sizing: border-box;text-align: center;}#sk-container-id-3 label.sk-toggleable__label-arrow:before {content: \"▸\";float: left;margin-right: 0.25em;color: #696969;}#sk-container-id-3 label.sk-toggleable__label-arrow:hover:before {color: black;}#sk-container-id-3 div.sk-estimator:hover label.sk-toggleable__label-arrow:before {color: black;}#sk-container-id-3 div.sk-toggleable__content {max-height: 0;max-width: 0;overflow: hidden;text-align: left;background-color: #f0f8ff;}#sk-container-id-3 div.sk-toggleable__content pre {margin: 0.2em;color: black;border-radius: 0.25em;background-color: #f0f8ff;}#sk-container-id-3 input.sk-toggleable__control:checked~div.sk-toggleable__content {max-height: 200px;max-width: 100%;overflow: auto;}#sk-container-id-3 input.sk-toggleable__control:checked~label.sk-toggleable__label-arrow:before {content: \"▾\";}#sk-container-id-3 div.sk-estimator input.sk-toggleable__control:checked~label.sk-toggleable__label {background-color: #d4ebff;}#sk-container-id-3 div.sk-label input.sk-toggleable__control:checked~label.sk-toggleable__label {background-color: #d4ebff;}#sk-container-id-3 input.sk-hidden--visually {border: 0;clip: rect(1px 1px 1px 1px);clip: rect(1px, 1px, 1px, 1px);height: 1px;margin: -1px;overflow: hidden;padding: 0;position: absolute;width: 1px;}#sk-container-id-3 div.sk-estimator {font-family: monospace;background-color: #f0f8ff;border: 1px dotted black;border-radius: 0.25em;box-sizing: border-box;margin-bottom: 0.5em;}#sk-container-id-3 div.sk-estimator:hover {background-color: #d4ebff;}#sk-container-id-3 div.sk-parallel-item::after {content: \"\";width: 100%;border-bottom: 1px solid gray;flex-grow: 1;}#sk-container-id-3 div.sk-label:hover label.sk-toggleable__label {background-color: #d4ebff;}#sk-container-id-3 div.sk-serial::before {content: \"\";position: absolute;border-left: 1px solid gray;box-sizing: border-box;top: 0;bottom: 0;left: 50%;z-index: 0;}#sk-container-id-3 div.sk-serial {display: flex;flex-direction: column;align-items: center;background-color: white;padding-right: 0.2em;padding-left: 0.2em;position: relative;}#sk-container-id-3 div.sk-item {position: relative;z-index: 1;}#sk-container-id-3 div.sk-parallel {display: flex;align-items: stretch;justify-content: center;background-color: white;position: relative;}#sk-container-id-3 div.sk-item::before, #sk-container-id-3 div.sk-parallel-item::before {content: \"\";position: absolute;border-left: 1px solid gray;box-sizing: border-box;top: 0;bottom: 0;left: 50%;z-index: -1;}#sk-container-id-3 div.sk-parallel-item {display: flex;flex-direction: column;z-index: 1;position: relative;background-color: white;}#sk-container-id-3 div.sk-parallel-item:first-child::after {align-self: flex-end;width: 50%;}#sk-container-id-3 div.sk-parallel-item:last-child::after {align-self: flex-start;width: 50%;}#sk-container-id-3 div.sk-parallel-item:only-child::after {width: 0;}#sk-container-id-3 div.sk-dashed-wrapped {border: 1px dashed gray;margin: 0 0.4em 0.5em 0.4em;box-sizing: border-box;padding-bottom: 0.4em;background-color: white;}#sk-container-id-3 div.sk-label label {font-family: monospace;font-weight: bold;display: inline-block;line-height: 1.2em;}#sk-container-id-3 div.sk-label-container {text-align: center;}#sk-container-id-3 div.sk-container {/* jupyter's `normalize.less` sets `[hidden] { display: none; }` but bootstrap.min.css set `[hidden] { display: none !important; }` so we also need the `!important` here to be able to override the default hidden behavior on the sphinx rendered scikit-learn.org. See: https://github.com/scikit-learn/scikit-learn/issues/21755 */display: inline-block !important;position: relative;}#sk-container-id-3 div.sk-text-repr-fallback {display: none;}</style><div id=\"sk-container-id-3\" class=\"sk-top-container\"><div class=\"sk-text-repr-fallback\"><pre>KMeans(n_clusters=3, n_init=10, random_state=99)</pre><b>In a Jupyter environment, please rerun this cell to show the HTML representation or trust the notebook. <br />On GitHub, the HTML representation is unable to render, please try loading this page with nbviewer.org.</b></div><div class=\"sk-container\" hidden><div class=\"sk-item\"><div class=\"sk-estimator sk-toggleable\"><input class=\"sk-toggleable__control sk-hidden--visually\" id=\"sk-estimator-id-3\" type=\"checkbox\" checked><label for=\"sk-estimator-id-3\" class=\"sk-toggleable__label sk-toggleable__label-arrow\">KMeans</label><div class=\"sk-toggleable__content\"><pre>KMeans(n_clusters=3, n_init=10, random_state=99)</pre></div></div></div></div></div>"
      ],
      "text/plain": [
       "KMeans(n_clusters=3, n_init=10, random_state=99)"
      ]
     },
     "execution_count": 47,
     "metadata": {},
     "output_type": "execute_result"
    }
   ],
   "source": [
    "# Run k-means clustering using this new dataset with the weighted variable\n",
    "model_wt = KMeans(n_clusters = 3, max_iter=300, tol=0.0001, n_init=10, random_state=99)\n",
    "model_wt.fit(wines_weighted)"
   ]
  },
  {
   "cell_type": "code",
   "execution_count": 48,
   "metadata": {},
   "outputs": [
    {
     "data": {
      "text/plain": [
       "<AxesSubplot:>"
      ]
     },
     "execution_count": 48,
     "metadata": {},
     "output_type": "execute_result"
    },
    {
     "data": {
      "image/png": "[encoded data removed]",
      "text/plain": [
       "<Figure size 432x288 with 2 Axes>"
      ]
     },
     "metadata": {
      "needs_background": "light"
     },
     "output_type": "display_data"
    }
   ],
   "source": [
    "# Visualize the cluster centroids\n",
    "clust_means_wt = pd.DataFrame(model_wt.cluster_centers_, columns=wines_weighted.columns)\n",
    "sns.heatmap(clust_means_wt.T,  linewidths=.5, cmap=\"YlGnBu\")"
   ]
  },
  {
   "cell_type": "markdown",
   "metadata": {},
   "source": [
    "Question: What do you observe about the formation of the clusters?\n",
    "\n",
    "Answer: The cluster formation is dominated by the weighted variable. "
   ]
  },
  {
   "cell_type": "markdown",
   "metadata": {},
   "source": [
    "In this particular example, the value of `wgt` has been arbitrarily set. <br >\n",
    "One may want to fine tune that value to also consider the other properties of wines."
   ]
  },
  {
   "cell_type": "markdown",
   "metadata": {},
   "source": [
    "### 6. Model Comparisons"
   ]
  },
  {
   "cell_type": "markdown",
   "metadata": {},
   "source": [
    "Perhaps, you might wonder - what is the effect if we do not transform or standardize the data?\n",
    "<br>Let's run k-means clustering based on original data, i.e., wines. Use k = 3."
   ]
  },
  {
   "cell_type": "code",
   "execution_count": 49,
   "metadata": {},
   "outputs": [
    {
     "name": "stderr",
     "output_type": "stream",
     "text": [
      "C:\\Users\\jasonchan\\Anaconda3\\lib\\site-packages\\sklearn\\cluster\\_kmeans.py:1382: UserWarning: KMeans is known to have a memory leak on Windows with MKL, when there are less chunks than available threads. You can avoid it by setting the environment variable OMP_NUM_THREADS=1.\n",
      "  warnings.warn(\n"
     ]
    },
    {
     "data": {
      "text/html": [
       "<style>#sk-container-id-4 {color: black;background-color: white;}#sk-container-id-4 pre{padding: 0;}#sk-container-id-4 div.sk-toggleable {background-color: white;}#sk-container-id-4 label.sk-toggleable__label {cursor: pointer;display: block;width: 100%;margin-bottom: 0;padding: 0.3em;box-sizing: border-box;text-align: center;}#sk-container-id-4 label.sk-toggleable__label-arrow:before {content: \"▸\";float: left;margin-right: 0.25em;color: #696969;}#sk-container-id-4 label.sk-toggleable__label-arrow:hover:before {color: black;}#sk-container-id-4 div.sk-estimator:hover label.sk-toggleable__label-arrow:before {color: black;}#sk-container-id-4 div.sk-toggleable__content {max-height: 0;max-width: 0;overflow: hidden;text-align: left;background-color: #f0f8ff;}#sk-container-id-4 div.sk-toggleable__content pre {margin: 0.2em;color: black;border-radius: 0.25em;background-color: #f0f8ff;}#sk-container-id-4 input.sk-toggleable__control:checked~div.sk-toggleable__content {max-height: 200px;max-width: 100%;overflow: auto;}#sk-container-id-4 input.sk-toggleable__control:checked~label.sk-toggleable__label-arrow:before {content: \"▾\";}#sk-container-id-4 div.sk-estimator input.sk-toggleable__control:checked~label.sk-toggleable__label {background-color: #d4ebff;}#sk-container-id-4 div.sk-label input.sk-toggleable__control:checked~label.sk-toggleable__label {background-color: #d4ebff;}#sk-container-id-4 input.sk-hidden--visually {border: 0;clip: rect(1px 1px 1px 1px);clip: rect(1px, 1px, 1px, 1px);height: 1px;margin: -1px;overflow: hidden;padding: 0;position: absolute;width: 1px;}#sk-container-id-4 div.sk-estimator {font-family: monospace;background-color: #f0f8ff;border: 1px dotted black;border-radius: 0.25em;box-sizing: border-box;margin-bottom: 0.5em;}#sk-container-id-4 div.sk-estimator:hover {background-color: #d4ebff;}#sk-container-id-4 div.sk-parallel-item::after {content: \"\";width: 100%;border-bottom: 1px solid gray;flex-grow: 1;}#sk-container-id-4 div.sk-label:hover label.sk-toggleable__label {background-color: #d4ebff;}#sk-container-id-4 div.sk-serial::before {content: \"\";position: absolute;border-left: 1px solid gray;box-sizing: border-box;top: 0;bottom: 0;left: 50%;z-index: 0;}#sk-container-id-4 div.sk-serial {display: flex;flex-direction: column;align-items: center;background-color: white;padding-right: 0.2em;padding-left: 0.2em;position: relative;}#sk-container-id-4 div.sk-item {position: relative;z-index: 1;}#sk-container-id-4 div.sk-parallel {display: flex;align-items: stretch;justify-content: center;background-color: white;position: relative;}#sk-container-id-4 div.sk-item::before, #sk-container-id-4 div.sk-parallel-item::before {content: \"\";position: absolute;border-left: 1px solid gray;box-sizing: border-box;top: 0;bottom: 0;left: 50%;z-index: -1;}#sk-container-id-4 div.sk-parallel-item {display: flex;flex-direction: column;z-index: 1;position: relative;background-color: white;}#sk-container-id-4 div.sk-parallel-item:first-child::after {align-self: flex-end;width: 50%;}#sk-container-id-4 div.sk-parallel-item:last-child::after {align-self: flex-start;width: 50%;}#sk-container-id-4 div.sk-parallel-item:only-child::after {width: 0;}#sk-container-id-4 div.sk-dashed-wrapped {border: 1px dashed gray;margin: 0 0.4em 0.5em 0.4em;box-sizing: border-box;padding-bottom: 0.4em;background-color: white;}#sk-container-id-4 div.sk-label label {font-family: monospace;font-weight: bold;display: inline-block;line-height: 1.2em;}#sk-container-id-4 div.sk-label-container {text-align: center;}#sk-container-id-4 div.sk-container {/* jupyter's `normalize.less` sets `[hidden] { display: none; }` but bootstrap.min.css set `[hidden] { display: none !important; }` so we also need the `!important` here to be able to override the default hidden behavior on the sphinx rendered scikit-learn.org. See: https://github.com/scikit-learn/scikit-learn/issues/21755 */display: inline-block !important;position: relative;}#sk-container-id-4 div.sk-text-repr-fallback {display: none;}</style><div id=\"sk-container-id-4\" class=\"sk-top-container\"><div class=\"sk-text-repr-fallback\"><pre>KMeans(n_clusters=3, n_init=10, random_state=99)</pre><b>In a Jupyter environment, please rerun this cell to show the HTML representation or trust the notebook. <br />On GitHub, the HTML representation is unable to render, please try loading this page with nbviewer.org.</b></div><div class=\"sk-container\" hidden><div class=\"sk-item\"><div class=\"sk-estimator sk-toggleable\"><input class=\"sk-toggleable__control sk-hidden--visually\" id=\"sk-estimator-id-4\" type=\"checkbox\" checked><label for=\"sk-estimator-id-4\" class=\"sk-toggleable__label sk-toggleable__label-arrow\">KMeans</label><div class=\"sk-toggleable__content\"><pre>KMeans(n_clusters=3, n_init=10, random_state=99)</pre></div></div></div></div></div>"
      ],
      "text/plain": [
       "KMeans(n_clusters=3, n_init=10, random_state=99)"
      ]
     },
     "execution_count": 49,
     "metadata": {},
     "output_type": "execute_result"
    }
   ],
   "source": [
    "# Run k-means clustering on the original wines dataset, without transformation and standization\n",
    "model2 = KMeans(n_clusters = 3, max_iter=300, tol=0.0001, n_init=10, random_state=99)\n",
    "model2.fit(wines)"
   ]
  },
  {
   "cell_type": "markdown",
   "metadata": {},
   "source": [
    "Let's look at the profile of the clusters."
   ]
  },
  {
   "cell_type": "code",
   "execution_count": 50,
   "metadata": {},
   "outputs": [],
   "source": [
    "# Create DataFrame of cluster centroids\n",
    "clust_means2 = pd.DataFrame(model2.cluster_centers_, columns=wines.columns)"
   ]
  },
  {
   "cell_type": "code",
   "execution_count": 51,
   "metadata": {},
   "outputs": [
    {
     "data": {
      "text/plain": [
       "<AxesSubplot:>"
      ]
     },
     "execution_count": 51,
     "metadata": {},
     "output_type": "execute_result"
    },
    {
     "data": {
      "image/png": "[encoded data removed]",
      "text/plain": [
       "<Figure size 432x288 with 2 Axes>"
      ]
     },
     "metadata": {
      "needs_background": "light"
     },
     "output_type": "display_data"
    }
   ],
   "source": [
    "# Show heatmap of cluster centroids\n",
    "sns.heatmap(clust_means2.T,  linewidths=.5, cmap=\"YlGnBu\")"
   ]
  },
  {
   "cell_type": "markdown",
   "metadata": {},
   "source": [
    "<img align=\"left\" src='https://drive.google.com/uc?export=view&id=0B08uY8vosNfoeUJ4NUxtMlVNNnM' style=\"width: 60px; height: 60px;\"><br /><br />\n",
    "Question: \n",
    "- What do you notice about the clusters features?"
   ]
  },
  {
   "cell_type": "markdown",
   "metadata": {},
   "source": [
    "Put your answer below:\n",
    "\n",
    "    - The clusters are dominated by Proline, but only because that variable had such high original values compared to all other variables. Doing this would be similar to only using the Proline variable and splitting into 3 bins. This would ignore all other variables, even though they may contain important information."
   ]
  },
  {
   "cell_type": "markdown",
   "metadata": {},
   "source": [
    "This is the reason why we need to <b>standardize</b> the variables when one or nore variables have a range of values much higher than the rest of the variables."
   ]
  }
 ],
 "metadata": {
  "kernelspec": {
   "display_name": "Python 3",
   "language": "python",
   "name": "python3"
  },
  "language_info": {
   "codemirror_mode": {
    "name": "ipython",
    "version": 3
   },
   "file_extension": ".py",
   "mimetype": "text/x-python",
   "name": "python",
   "nbconvert_exporter": "python",
   "pygments_lexer": "ipython3",
   "version": "3.8.8"
  },
  "toc": {
   "base_numbering": 1,
   "nav_menu": {},
   "number_sections": true,
   "sideBar": true,
   "skip_h1_title": false,
   "title_cell": "Table of Contents",
   "title_sidebar": "Contents",
   "toc_cell": false,
   "toc_position": {},
   "toc_section_display": true,
   "toc_window_display": false
  },
  "varInspector": {
   "cols": {
    "lenName": 16,
    "lenType": 16,
    "lenVar": 40
   },
   "kernels_config": {
    "python": {
     "delete_cmd_postfix": "",
     "delete_cmd_prefix": "del ",
     "library": "var_list.py",
     "varRefreshCmd": "print(var_dic_list())"
    },
    "r": {
     "delete_cmd_postfix": ") ",
     "delete_cmd_prefix": "rm(",
     "library": "var_list.r",
     "varRefreshCmd": "cat(var_dic_list()) "
    }
   },
   "types_to_exclude": [
    "module",
    "function",
    "builtin_function_or_method",
    "instance",
    "_Feature"
   ],
   "window_display": false
  }
 },
 "nbformat": 4,
 "nbformat_minor": 2
}
