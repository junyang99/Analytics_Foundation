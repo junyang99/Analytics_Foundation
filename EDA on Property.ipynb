{
 "cells": [
  {
   "cell_type": "markdown",
   "metadata": {},
   "source": [
    "**Self Practice Exercises**"
   ]
  },
  {
   "cell_type": "markdown",
   "metadata": {},
   "source": [
    "1)Load property dataset 2) Which type of hdb has the most entries in the dataset? 3) Display the total property_tax_collection for each financial year. 4) Generate the histogram charts. 5) Create a heatmap from sns for the function corr() on property dataset. Which is the most correlated pair of attributes? 6) Try sns.pairplot on property data. 7) Create 3 bins on no_of_cases (small : 0 to 10000, medium : 10001-100000, large : 100001-500000). 8) Generate the barchart on the newly created bins. 9) For each bin, display the average for the collected property tax.\n",
    "\n",
    "**Updated with solutions to Demo - Meena**"
   ]
  },
  {
   "cell_type": "markdown",
   "metadata": {},
   "source": [
    "**1) Load the data in the given file - property.csv.**"
   ]
  },
  {
   "cell_type": "code",
   "execution_count": 11,
   "metadata": {},
   "outputs": [
    {
     "name": "stderr",
     "output_type": "stream",
     "text": [
      "/opt/anaconda3/lib/python3.8/site-packages/scipy/__init__.py:138: UserWarning: A NumPy version >=1.16.5 and <1.23.0 is required for this version of SciPy (detected version 1.23.1)\n",
      "  warnings.warn(f\"A NumPy version >={np_minversion} and <{np_maxversion} is required for this version of \"\n"
     ]
    }
   ],
   "source": []
  },
  {
   "cell_type": "code",
   "execution_count": 1,
   "metadata": {},
   "outputs": [
    {
     "ename": "NameError",
     "evalue": "name 'pd' is not defined",
     "output_type": "error",
     "traceback": [
      "\u001b[0;31m---------------------------------------------------------------------------\u001b[0m",
      "\u001b[0;31mNameError\u001b[0m                                 Traceback (most recent call last)",
      "\u001b[0;32m<ipython-input-1-1cf97d66f276>\u001b[0m in \u001b[0;36m<module>\u001b[0;34m\u001b[0m\n\u001b[0;32m----> 1\u001b[0;31m \u001b[0mproperty\u001b[0m \u001b[0;34m=\u001b[0m \u001b[0mpd\u001b[0m\u001b[0;34m.\u001b[0m\u001b[0mread_csv\u001b[0m\u001b[0;34m(\u001b[0m\u001b[0;34m'property.csv'\u001b[0m\u001b[0;34m)\u001b[0m\u001b[0;34m\u001b[0m\u001b[0;34m\u001b[0m\u001b[0m\n\u001b[0m\u001b[1;32m      2\u001b[0m \u001b[0mproperty\u001b[0m\u001b[0;34m.\u001b[0m\u001b[0mhead\u001b[0m\u001b[0;34m(\u001b[0m\u001b[0;34m)\u001b[0m\u001b[0;34m\u001b[0m\u001b[0;34m\u001b[0m\u001b[0m\n",
      "\u001b[0;31mNameError\u001b[0m: name 'pd' is not defined"
     ]
    }
   ],
   "source": [
    "property = pd.read_csv('property.csv')\n",
    "property.head()\n"
   ]
  },
  {
   "cell_type": "code",
   "execution_count": 3,
   "metadata": {
    "scrolled": true
   },
   "outputs": [
    {
     "data": {
      "text/html": [
       "<div>\n",
       "<style scoped>\n",
       "    .dataframe tbody tr th:only-of-type {\n",
       "        vertical-align: middle;\n",
       "    }\n",
       "\n",
       "    .dataframe tbody tr th {\n",
       "        vertical-align: top;\n",
       "    }\n",
       "\n",
       "    .dataframe thead th {\n",
       "        text-align: right;\n",
       "    }\n",
       "</style>\n",
       "<table border=\"1\" class=\"dataframe\">\n",
       "  <thead>\n",
       "    <tr style=\"text-align: right;\">\n",
       "      <th></th>\n",
       "      <th>financial_year</th>\n",
       "      <th>type_of_hdb</th>\n",
       "      <th>no_of_cases</th>\n",
       "      <th>median_annual_value</th>\n",
       "      <th>property_tax_collection</th>\n",
       "    </tr>\n",
       "  </thead>\n",
       "  <tbody>\n",
       "    <tr>\n",
       "      <th>0</th>\n",
       "      <td>2010</td>\n",
       "      <td>1 or 2 Room</td>\n",
       "      <td>8632</td>\n",
       "      <td>4500</td>\n",
       "      <td>190</td>\n",
       "    </tr>\n",
       "    <tr>\n",
       "      <th>1</th>\n",
       "      <td>2010</td>\n",
       "      <td>3 Room</td>\n",
       "      <td>213865</td>\n",
       "      <td>6300</td>\n",
       "      <td>16259</td>\n",
       "    </tr>\n",
       "    <tr>\n",
       "      <th>2</th>\n",
       "      <td>2010</td>\n",
       "      <td>4 Room</td>\n",
       "      <td>339721</td>\n",
       "      <td>8100</td>\n",
       "      <td>45089</td>\n",
       "    </tr>\n",
       "    <tr>\n",
       "      <th>3</th>\n",
       "      <td>2010</td>\n",
       "      <td>5 Room</td>\n",
       "      <td>209210</td>\n",
       "      <td>9000</td>\n",
       "      <td>37936</td>\n",
       "    </tr>\n",
       "    <tr>\n",
       "      <th>4</th>\n",
       "      <td>2010</td>\n",
       "      <td>Executive &amp; Others</td>\n",
       "      <td>64613</td>\n",
       "      <td>9300</td>\n",
       "      <td>13046</td>\n",
       "    </tr>\n",
       "  </tbody>\n",
       "</table>\n",
       "</div>"
      ],
      "text/plain": [
       "   financial_year         type_of_hdb  no_of_cases  median_annual_value  \\\n",
       "0            2010         1 or 2 Room         8632                 4500   \n",
       "1            2010              3 Room       213865                 6300   \n",
       "2            2010              4 Room       339721                 8100   \n",
       "3            2010              5 Room       209210                 9000   \n",
       "4            2010  Executive & Others        64613                 9300   \n",
       "\n",
       "   property_tax_collection  \n",
       "0                      190  \n",
       "1                    16259  \n",
       "2                    45089  \n",
       "3                    37936  \n",
       "4                    13046  "
      ]
     },
     "execution_count": 3,
     "metadata": {},
     "output_type": "execute_result"
    }
   ],
   "source": []
  },
  {
   "cell_type": "markdown",
   "metadata": {},
   "source": [
    "**2) Which type of hdb has the most entries in the dataset?**"
   ]
  },
  {
   "cell_type": "code",
   "execution_count": 35,
   "metadata": {},
   "outputs": [
    {
     "data": {
      "text/plain": [
       "1 or 2 Room           8\n",
       "3 Room                8\n",
       "4 Room                8\n",
       "5 Room                8\n",
       "Executive & Others    8\n",
       "Name: type_of_hdb, dtype: int64"
      ]
     },
     "execution_count": 35,
     "metadata": {},
     "output_type": "execute_result"
    }
   ],
   "source": [
    "property['type_of_hdb'].value_counts()"
   ]
  },
  {
   "cell_type": "code",
   "execution_count": null,
   "metadata": {},
   "outputs": [],
   "source": []
  },
  {
   "cell_type": "code",
   "execution_count": null,
   "metadata": {
    "scrolled": true
   },
   "outputs": [],
   "source": []
  },
  {
   "cell_type": "markdown",
   "metadata": {},
   "source": [
    "**3) Display the total property_tax_collection for each financial year.**"
   ]
  },
  {
   "cell_type": "code",
   "execution_count": 38,
   "metadata": {},
   "outputs": [
    {
     "data": {
      "text/plain": [
       "financial_year\n",
       "2010    112520\n",
       "2011    104543\n",
       "2012    144415\n",
       "2013    150158\n",
       "2014    140286\n",
       "2015    134257\n",
       "2016    122876\n",
       "2017    117947\n",
       "Name: property_tax_collection, dtype: int64"
      ]
     },
     "execution_count": 38,
     "metadata": {},
     "output_type": "execute_result"
    }
   ],
   "source": [
    "property.groupby('financial_year').sum()['property_tax_collection']"
   ]
  },
  {
   "cell_type": "code",
   "execution_count": 8,
   "metadata": {},
   "outputs": [
    {
     "data": {
      "text/plain": [
       "financial_year\n",
       "2010    112520\n",
       "2011    104543\n",
       "2012    144415\n",
       "2013    150158\n",
       "2014    140286\n",
       "2015    134257\n",
       "2016    122876\n",
       "2017    117947\n",
       "Name: property_tax_collection, dtype: int64"
      ]
     },
     "execution_count": 8,
     "metadata": {},
     "output_type": "execute_result"
    }
   ],
   "source": []
  },
  {
   "cell_type": "code",
   "execution_count": null,
   "metadata": {
    "scrolled": true
   },
   "outputs": [],
   "source": []
  },
  {
   "cell_type": "markdown",
   "metadata": {},
   "source": [
    "**4) Generate the histogram charts.**"
   ]
  },
  {
   "cell_type": "code",
   "execution_count": 39,
   "metadata": {},
   "outputs": [
    {
     "data": {
      "text/plain": [
       "<AxesSubplot:>"
      ]
     },
     "execution_count": 39,
     "metadata": {},
     "output_type": "execute_result"
    },
    {
     "data": {
      "image/png": "[encoded data removed]",
      "text/plain": [
       "<Figure size 432x288 with 1 Axes>"
      ]
     },
     "metadata": {
      "needs_background": "light"
     },
     "output_type": "display_data"
    }
   ],
   "source": [
    "tax_collected = property.groupby('financial_year').sum()['property_tax_collection']\n",
    "tax_collected.hist()"
   ]
  },
  {
   "cell_type": "code",
   "execution_count": null,
   "metadata": {},
   "outputs": [],
   "source": []
  },
  {
   "cell_type": "markdown",
   "metadata": {},
   "source": [
    "**5) Create a heatmap from sns for the function corr() on property dataset. Which is the most correlated pair of attributes?**\n"
   ]
  },
  {
   "cell_type": "code",
   "execution_count": 40,
   "metadata": {},
   "outputs": [
    {
     "data": {
      "text/html": [
       "<div>\n",
       "<style scoped>\n",
       "    .dataframe tbody tr th:only-of-type {\n",
       "        vertical-align: middle;\n",
       "    }\n",
       "\n",
       "    .dataframe tbody tr th {\n",
       "        vertical-align: top;\n",
       "    }\n",
       "\n",
       "    .dataframe thead th {\n",
       "        text-align: right;\n",
       "    }\n",
       "</style>\n",
       "<table border=\"1\" class=\"dataframe\">\n",
       "  <thead>\n",
       "    <tr style=\"text-align: right;\">\n",
       "      <th></th>\n",
       "      <th>financial_year</th>\n",
       "      <th>no_of_cases</th>\n",
       "      <th>median_annual_value</th>\n",
       "      <th>property_tax_collection</th>\n",
       "    </tr>\n",
       "  </thead>\n",
       "  <tbody>\n",
       "    <tr>\n",
       "      <th>financial_year</th>\n",
       "      <td>1.000000</td>\n",
       "      <td>0.070673</td>\n",
       "      <td>0.086333</td>\n",
       "      <td>0.025257</td>\n",
       "    </tr>\n",
       "    <tr>\n",
       "      <th>no_of_cases</th>\n",
       "      <td>0.070673</td>\n",
       "      <td>1.000000</td>\n",
       "      <td>0.397860</td>\n",
       "      <td>0.906023</td>\n",
       "    </tr>\n",
       "    <tr>\n",
       "      <th>median_annual_value</th>\n",
       "      <td>0.086333</td>\n",
       "      <td>0.397860</td>\n",
       "      <td>1.000000</td>\n",
       "      <td>0.615492</td>\n",
       "    </tr>\n",
       "    <tr>\n",
       "      <th>property_tax_collection</th>\n",
       "      <td>0.025257</td>\n",
       "      <td>0.906023</td>\n",
       "      <td>0.615492</td>\n",
       "      <td>1.000000</td>\n",
       "    </tr>\n",
       "  </tbody>\n",
       "</table>\n",
       "</div>"
      ],
      "text/plain": [
       "                         financial_year  no_of_cases  median_annual_value  \\\n",
       "financial_year                 1.000000     0.070673             0.086333   \n",
       "no_of_cases                    0.070673     1.000000             0.397860   \n",
       "median_annual_value            0.086333     0.397860             1.000000   \n",
       "property_tax_collection        0.025257     0.906023             0.615492   \n",
       "\n",
       "                         property_tax_collection  \n",
       "financial_year                          0.025257  \n",
       "no_of_cases                             0.906023  \n",
       "median_annual_value                     0.615492  \n",
       "property_tax_collection                 1.000000  "
      ]
     },
     "execution_count": 40,
     "metadata": {},
     "output_type": "execute_result"
    }
   ],
   "source": [
    "property.corr()"
   ]
  },
  {
   "cell_type": "code",
   "execution_count": 42,
   "metadata": {},
   "outputs": [
    {
     "data": {
      "text/plain": [
       "<AxesSubplot:>"
      ]
     },
     "execution_count": 42,
     "metadata": {},
     "output_type": "execute_result"
    },
    {
     "data": {
      "image/png": "[encoded data removed]",
      "text/plain": [
       "<Figure size 432x288 with 2 Axes>"
      ]
     },
     "metadata": {
      "needs_background": "light"
     },
     "output_type": "display_data"
    }
   ],
   "source": [
    "sns.heatmap(property.corr(), annot=True)"
   ]
  },
  {
   "cell_type": "markdown",
   "metadata": {},
   "source": [
    "**6) Try sns.pairplot on property**"
   ]
  },
  {
   "cell_type": "code",
   "execution_count": 43,
   "metadata": {},
   "outputs": [
    {
     "data": {
      "text/plain": [
       "<seaborn.axisgrid.PairGrid at 0x7fa64243e6a0>"
      ]
     },
     "execution_count": 43,
     "metadata": {},
     "output_type": "execute_result"
    },
    {
     "data": {
      "image/png": "[encoded data removed]",
      "text/plain": [
       "<Figure size 720x720 with 20 Axes>"
      ]
     },
     "metadata": {
      "needs_background": "light"
     },
     "output_type": "display_data"
    }
   ],
   "source": [
    "#visually see any correlation\n",
    "sns.pairplot(property)"
   ]
  },
  {
   "cell_type": "code",
   "execution_count": null,
   "metadata": {},
   "outputs": [],
   "source": []
  },
  {
   "cell_type": "markdown",
   "metadata": {},
   "source": [
    "**7) Create 3 bins on no_of_cases (small : 0 to 10000, medium : 10001-100000, large : 100001-500000).**"
   ]
  },
  {
   "cell_type": "code",
   "execution_count": 47,
   "metadata": {},
   "outputs": [
    {
     "data": {
      "text/html": [
       "<div>\n",
       "<style scoped>\n",
       "    .dataframe tbody tr th:only-of-type {\n",
       "        vertical-align: middle;\n",
       "    }\n",
       "\n",
       "    .dataframe tbody tr th {\n",
       "        vertical-align: top;\n",
       "    }\n",
       "\n",
       "    .dataframe thead th {\n",
       "        text-align: right;\n",
       "    }\n",
       "</style>\n",
       "<table border=\"1\" class=\"dataframe\">\n",
       "  <thead>\n",
       "    <tr style=\"text-align: right;\">\n",
       "      <th></th>\n",
       "      <th>financial_year</th>\n",
       "      <th>type_of_hdb</th>\n",
       "      <th>no_of_cases</th>\n",
       "      <th>median_annual_value</th>\n",
       "      <th>property_tax_collection</th>\n",
       "    </tr>\n",
       "  </thead>\n",
       "  <tbody>\n",
       "    <tr>\n",
       "      <th>0</th>\n",
       "      <td>2010</td>\n",
       "      <td>1 or 2 Room</td>\n",
       "      <td>small</td>\n",
       "      <td>4500</td>\n",
       "      <td>190</td>\n",
       "    </tr>\n",
       "    <tr>\n",
       "      <th>1</th>\n",
       "      <td>2010</td>\n",
       "      <td>3 Room</td>\n",
       "      <td>large</td>\n",
       "      <td>6300</td>\n",
       "      <td>16259</td>\n",
       "    </tr>\n",
       "    <tr>\n",
       "      <th>2</th>\n",
       "      <td>2010</td>\n",
       "      <td>4 Room</td>\n",
       "      <td>large</td>\n",
       "      <td>8100</td>\n",
       "      <td>45089</td>\n",
       "    </tr>\n",
       "    <tr>\n",
       "      <th>3</th>\n",
       "      <td>2010</td>\n",
       "      <td>5 Room</td>\n",
       "      <td>large</td>\n",
       "      <td>9000</td>\n",
       "      <td>37936</td>\n",
       "    </tr>\n",
       "    <tr>\n",
       "      <th>4</th>\n",
       "      <td>2010</td>\n",
       "      <td>Executive &amp; Others</td>\n",
       "      <td>medium</td>\n",
       "      <td>9300</td>\n",
       "      <td>13046</td>\n",
       "    </tr>\n",
       "    <tr>\n",
       "      <th>5</th>\n",
       "      <td>2011</td>\n",
       "      <td>1 or 2 Room</td>\n",
       "      <td>small</td>\n",
       "      <td>5400</td>\n",
       "      <td>242</td>\n",
       "    </tr>\n",
       "    <tr>\n",
       "      <th>6</th>\n",
       "      <td>2011</td>\n",
       "      <td>3 Room</td>\n",
       "      <td>large</td>\n",
       "      <td>7800</td>\n",
       "      <td>15120</td>\n",
       "    </tr>\n",
       "    <tr>\n",
       "      <th>7</th>\n",
       "      <td>2011</td>\n",
       "      <td>4 Room</td>\n",
       "      <td>large</td>\n",
       "      <td>9600</td>\n",
       "      <td>41575</td>\n",
       "    </tr>\n",
       "    <tr>\n",
       "      <th>8</th>\n",
       "      <td>2011</td>\n",
       "      <td>5 Room</td>\n",
       "      <td>large</td>\n",
       "      <td>10800</td>\n",
       "      <td>35677</td>\n",
       "    </tr>\n",
       "    <tr>\n",
       "      <th>9</th>\n",
       "      <td>2011</td>\n",
       "      <td>Executive &amp; Others</td>\n",
       "      <td>medium</td>\n",
       "      <td>11100</td>\n",
       "      <td>11929</td>\n",
       "    </tr>\n",
       "    <tr>\n",
       "      <th>10</th>\n",
       "      <td>2012</td>\n",
       "      <td>1 or 2 Room</td>\n",
       "      <td>medium</td>\n",
       "      <td>5400</td>\n",
       "      <td>301</td>\n",
       "    </tr>\n",
       "    <tr>\n",
       "      <th>11</th>\n",
       "      <td>2012</td>\n",
       "      <td>3 Room</td>\n",
       "      <td>large</td>\n",
       "      <td>8700</td>\n",
       "      <td>25037</td>\n",
       "    </tr>\n",
       "    <tr>\n",
       "      <th>12</th>\n",
       "      <td>2012</td>\n",
       "      <td>4 Room</td>\n",
       "      <td>large</td>\n",
       "      <td>10500</td>\n",
       "      <td>58422</td>\n",
       "    </tr>\n",
       "    <tr>\n",
       "      <th>13</th>\n",
       "      <td>2012</td>\n",
       "      <td>5 Room</td>\n",
       "      <td>large</td>\n",
       "      <td>11400</td>\n",
       "      <td>45548</td>\n",
       "    </tr>\n",
       "    <tr>\n",
       "      <th>14</th>\n",
       "      <td>2012</td>\n",
       "      <td>Executive &amp; Others</td>\n",
       "      <td>medium</td>\n",
       "      <td>12000</td>\n",
       "      <td>15107</td>\n",
       "    </tr>\n",
       "    <tr>\n",
       "      <th>15</th>\n",
       "      <td>2013</td>\n",
       "      <td>1 or 2 Room</td>\n",
       "      <td>medium</td>\n",
       "      <td>5400</td>\n",
       "      <td>328</td>\n",
       "    </tr>\n",
       "    <tr>\n",
       "      <th>16</th>\n",
       "      <td>2013</td>\n",
       "      <td>3 Room</td>\n",
       "      <td>large</td>\n",
       "      <td>8940</td>\n",
       "      <td>26535</td>\n",
       "    </tr>\n",
       "    <tr>\n",
       "      <th>17</th>\n",
       "      <td>2013</td>\n",
       "      <td>4 Room</td>\n",
       "      <td>large</td>\n",
       "      <td>10800</td>\n",
       "      <td>60632</td>\n",
       "    </tr>\n",
       "    <tr>\n",
       "      <th>18</th>\n",
       "      <td>2013</td>\n",
       "      <td>5 Room</td>\n",
       "      <td>large</td>\n",
       "      <td>11700</td>\n",
       "      <td>47061</td>\n",
       "    </tr>\n",
       "    <tr>\n",
       "      <th>19</th>\n",
       "      <td>2013</td>\n",
       "      <td>Executive &amp; Others</td>\n",
       "      <td>medium</td>\n",
       "      <td>12000</td>\n",
       "      <td>15602</td>\n",
       "    </tr>\n",
       "    <tr>\n",
       "      <th>20</th>\n",
       "      <td>2014</td>\n",
       "      <td>1 or 2 Room</td>\n",
       "      <td>medium</td>\n",
       "      <td>5400</td>\n",
       "      <td>356</td>\n",
       "    </tr>\n",
       "    <tr>\n",
       "      <th>21</th>\n",
       "      <td>2014</td>\n",
       "      <td>3 Room</td>\n",
       "      <td>large</td>\n",
       "      <td>8640</td>\n",
       "      <td>23150</td>\n",
       "    </tr>\n",
       "    <tr>\n",
       "      <th>22</th>\n",
       "      <td>2014</td>\n",
       "      <td>4 Room</td>\n",
       "      <td>large</td>\n",
       "      <td>10440</td>\n",
       "      <td>57919</td>\n",
       "    </tr>\n",
       "    <tr>\n",
       "      <th>23</th>\n",
       "      <td>2014</td>\n",
       "      <td>5 Room</td>\n",
       "      <td>large</td>\n",
       "      <td>11340</td>\n",
       "      <td>44686</td>\n",
       "    </tr>\n",
       "    <tr>\n",
       "      <th>24</th>\n",
       "      <td>2014</td>\n",
       "      <td>Executive &amp; Others</td>\n",
       "      <td>medium</td>\n",
       "      <td>11640</td>\n",
       "      <td>14175</td>\n",
       "    </tr>\n",
       "    <tr>\n",
       "      <th>25</th>\n",
       "      <td>2015</td>\n",
       "      <td>1 or 2 Room</td>\n",
       "      <td>medium</td>\n",
       "      <td>5400</td>\n",
       "      <td>364</td>\n",
       "    </tr>\n",
       "    <tr>\n",
       "      <th>26</th>\n",
       "      <td>2015</td>\n",
       "      <td>3 Room</td>\n",
       "      <td>large</td>\n",
       "      <td>8340</td>\n",
       "      <td>20880</td>\n",
       "    </tr>\n",
       "    <tr>\n",
       "      <th>27</th>\n",
       "      <td>2015</td>\n",
       "      <td>4 Room</td>\n",
       "      <td>large</td>\n",
       "      <td>10080</td>\n",
       "      <td>55798</td>\n",
       "    </tr>\n",
       "    <tr>\n",
       "      <th>28</th>\n",
       "      <td>2015</td>\n",
       "      <td>5 Room</td>\n",
       "      <td>large</td>\n",
       "      <td>10920</td>\n",
       "      <td>43592</td>\n",
       "    </tr>\n",
       "    <tr>\n",
       "      <th>29</th>\n",
       "      <td>2015</td>\n",
       "      <td>Executive &amp; Others</td>\n",
       "      <td>medium</td>\n",
       "      <td>11220</td>\n",
       "      <td>13623</td>\n",
       "    </tr>\n",
       "    <tr>\n",
       "      <th>30</th>\n",
       "      <td>2016</td>\n",
       "      <td>1 or 2 Room</td>\n",
       "      <td>medium</td>\n",
       "      <td>5400</td>\n",
       "      <td>418</td>\n",
       "    </tr>\n",
       "    <tr>\n",
       "      <th>31</th>\n",
       "      <td>2016</td>\n",
       "      <td>3 Room</td>\n",
       "      <td>large</td>\n",
       "      <td>7860</td>\n",
       "      <td>18514</td>\n",
       "    </tr>\n",
       "    <tr>\n",
       "      <th>32</th>\n",
       "      <td>2016</td>\n",
       "      <td>4 Room</td>\n",
       "      <td>large</td>\n",
       "      <td>9600</td>\n",
       "      <td>50305</td>\n",
       "    </tr>\n",
       "    <tr>\n",
       "      <th>33</th>\n",
       "      <td>2016</td>\n",
       "      <td>5 Room</td>\n",
       "      <td>large</td>\n",
       "      <td>10380</td>\n",
       "      <td>40927</td>\n",
       "    </tr>\n",
       "    <tr>\n",
       "      <th>34</th>\n",
       "      <td>2016</td>\n",
       "      <td>Executive &amp; Others</td>\n",
       "      <td>medium</td>\n",
       "      <td>10680</td>\n",
       "      <td>12712</td>\n",
       "    </tr>\n",
       "    <tr>\n",
       "      <th>35</th>\n",
       "      <td>2017</td>\n",
       "      <td>1 or 2 Room</td>\n",
       "      <td>medium</td>\n",
       "      <td>5400</td>\n",
       "      <td>421</td>\n",
       "    </tr>\n",
       "    <tr>\n",
       "      <th>36</th>\n",
       "      <td>2017</td>\n",
       "      <td>3 Room</td>\n",
       "      <td>large</td>\n",
       "      <td>7860</td>\n",
       "      <td>17748</td>\n",
       "    </tr>\n",
       "    <tr>\n",
       "      <th>37</th>\n",
       "      <td>2017</td>\n",
       "      <td>4 Room</td>\n",
       "      <td>large</td>\n",
       "      <td>9600</td>\n",
       "      <td>48672</td>\n",
       "    </tr>\n",
       "    <tr>\n",
       "      <th>38</th>\n",
       "      <td>2017</td>\n",
       "      <td>5 Room</td>\n",
       "      <td>large</td>\n",
       "      <td>10380</td>\n",
       "      <td>39115</td>\n",
       "    </tr>\n",
       "    <tr>\n",
       "      <th>39</th>\n",
       "      <td>2017</td>\n",
       "      <td>Executive &amp; Others</td>\n",
       "      <td>medium</td>\n",
       "      <td>10680</td>\n",
       "      <td>11991</td>\n",
       "    </tr>\n",
       "  </tbody>\n",
       "</table>\n",
       "</div>"
      ],
      "text/plain": [
       "    financial_year         type_of_hdb no_of_cases  median_annual_value  \\\n",
       "0             2010         1 or 2 Room       small                 4500   \n",
       "1             2010              3 Room       large                 6300   \n",
       "2             2010              4 Room       large                 8100   \n",
       "3             2010              5 Room       large                 9000   \n",
       "4             2010  Executive & Others      medium                 9300   \n",
       "5             2011         1 or 2 Room       small                 5400   \n",
       "6             2011              3 Room       large                 7800   \n",
       "7             2011              4 Room       large                 9600   \n",
       "8             2011              5 Room       large                10800   \n",
       "9             2011  Executive & Others      medium                11100   \n",
       "10            2012         1 or 2 Room      medium                 5400   \n",
       "11            2012              3 Room       large                 8700   \n",
       "12            2012              4 Room       large                10500   \n",
       "13            2012              5 Room       large                11400   \n",
       "14            2012  Executive & Others      medium                12000   \n",
       "15            2013         1 or 2 Room      medium                 5400   \n",
       "16            2013              3 Room       large                 8940   \n",
       "17            2013              4 Room       large                10800   \n",
       "18            2013              5 Room       large                11700   \n",
       "19            2013  Executive & Others      medium                12000   \n",
       "20            2014         1 or 2 Room      medium                 5400   \n",
       "21            2014              3 Room       large                 8640   \n",
       "22            2014              4 Room       large                10440   \n",
       "23            2014              5 Room       large                11340   \n",
       "24            2014  Executive & Others      medium                11640   \n",
       "25            2015         1 or 2 Room      medium                 5400   \n",
       "26            2015              3 Room       large                 8340   \n",
       "27            2015              4 Room       large                10080   \n",
       "28            2015              5 Room       large                10920   \n",
       "29            2015  Executive & Others      medium                11220   \n",
       "30            2016         1 or 2 Room      medium                 5400   \n",
       "31            2016              3 Room       large                 7860   \n",
       "32            2016              4 Room       large                 9600   \n",
       "33            2016              5 Room       large                10380   \n",
       "34            2016  Executive & Others      medium                10680   \n",
       "35            2017         1 or 2 Room      medium                 5400   \n",
       "36            2017              3 Room       large                 7860   \n",
       "37            2017              4 Room       large                 9600   \n",
       "38            2017              5 Room       large                10380   \n",
       "39            2017  Executive & Others      medium                10680   \n",
       "\n",
       "    property_tax_collection  \n",
       "0                       190  \n",
       "1                     16259  \n",
       "2                     45089  \n",
       "3                     37936  \n",
       "4                     13046  \n",
       "5                       242  \n",
       "6                     15120  \n",
       "7                     41575  \n",
       "8                     35677  \n",
       "9                     11929  \n",
       "10                      301  \n",
       "11                    25037  \n",
       "12                    58422  \n",
       "13                    45548  \n",
       "14                    15107  \n",
       "15                      328  \n",
       "16                    26535  \n",
       "17                    60632  \n",
       "18                    47061  \n",
       "19                    15602  \n",
       "20                      356  \n",
       "21                    23150  \n",
       "22                    57919  \n",
       "23                    44686  \n",
       "24                    14175  \n",
       "25                      364  \n",
       "26                    20880  \n",
       "27                    55798  \n",
       "28                    43592  \n",
       "29                    13623  \n",
       "30                      418  \n",
       "31                    18514  \n",
       "32                    50305  \n",
       "33                    40927  \n",
       "34                    12712  \n",
       "35                      421  \n",
       "36                    17748  \n",
       "37                    48672  \n",
       "38                    39115  \n",
       "39                    11991  "
      ]
     },
     "execution_count": 47,
     "metadata": {},
     "output_type": "execute_result"
    }
   ],
   "source": [
    "bin_check = [0, 10000, 100000, 500000]\n",
    "lab = ['small', 'medium', 'large']\n",
    "\n",
    "property['no_of_cases'] = pd.cut(property['no_of_cases'],bins = bin_check, labels = lab)\n",
    "property"
   ]
  },
  {
   "cell_type": "code",
   "execution_count": 14,
   "metadata": {},
   "outputs": [
    {
     "data": {
      "text/html": [
       "<div>\n",
       "<style scoped>\n",
       "    .dataframe tbody tr th:only-of-type {\n",
       "        vertical-align: middle;\n",
       "    }\n",
       "\n",
       "    .dataframe tbody tr th {\n",
       "        vertical-align: top;\n",
       "    }\n",
       "\n",
       "    .dataframe thead th {\n",
       "        text-align: right;\n",
       "    }\n",
       "</style>\n",
       "<table border=\"1\" class=\"dataframe\">\n",
       "  <thead>\n",
       "    <tr style=\"text-align: right;\">\n",
       "      <th></th>\n",
       "      <th>financial_year</th>\n",
       "      <th>type_of_hdb</th>\n",
       "      <th>no_of_cases</th>\n",
       "      <th>median_annual_value</th>\n",
       "      <th>property_tax_collection</th>\n",
       "      <th>no_cases_bins</th>\n",
       "    </tr>\n",
       "  </thead>\n",
       "  <tbody>\n",
       "    <tr>\n",
       "      <th>0</th>\n",
       "      <td>2010</td>\n",
       "      <td>1 or 2 Room</td>\n",
       "      <td>8632</td>\n",
       "      <td>4500</td>\n",
       "      <td>190</td>\n",
       "      <td>small</td>\n",
       "    </tr>\n",
       "    <tr>\n",
       "      <th>1</th>\n",
       "      <td>2010</td>\n",
       "      <td>3 Room</td>\n",
       "      <td>213865</td>\n",
       "      <td>6300</td>\n",
       "      <td>16259</td>\n",
       "      <td>large</td>\n",
       "    </tr>\n",
       "    <tr>\n",
       "      <th>2</th>\n",
       "      <td>2010</td>\n",
       "      <td>4 Room</td>\n",
       "      <td>339721</td>\n",
       "      <td>8100</td>\n",
       "      <td>45089</td>\n",
       "      <td>large</td>\n",
       "    </tr>\n",
       "    <tr>\n",
       "      <th>3</th>\n",
       "      <td>2010</td>\n",
       "      <td>5 Room</td>\n",
       "      <td>209210</td>\n",
       "      <td>9000</td>\n",
       "      <td>37936</td>\n",
       "      <td>large</td>\n",
       "    </tr>\n",
       "    <tr>\n",
       "      <th>4</th>\n",
       "      <td>2010</td>\n",
       "      <td>Executive &amp; Others</td>\n",
       "      <td>64613</td>\n",
       "      <td>9300</td>\n",
       "      <td>13046</td>\n",
       "      <td>medium</td>\n",
       "    </tr>\n",
       "  </tbody>\n",
       "</table>\n",
       "</div>"
      ],
      "text/plain": [
       "   financial_year         type_of_hdb  no_of_cases  median_annual_value  \\\n",
       "0            2010         1 or 2 Room         8632                 4500   \n",
       "1            2010              3 Room       213865                 6300   \n",
       "2            2010              4 Room       339721                 8100   \n",
       "3            2010              5 Room       209210                 9000   \n",
       "4            2010  Executive & Others        64613                 9300   \n",
       "\n",
       "   property_tax_collection no_cases_bins  \n",
       "0                      190         small  \n",
       "1                    16259         large  \n",
       "2                    45089         large  \n",
       "3                    37936         large  \n",
       "4                    13046        medium  "
      ]
     },
     "execution_count": 14,
     "metadata": {},
     "output_type": "execute_result"
    }
   ],
   "source": []
  },
  {
   "cell_type": "markdown",
   "metadata": {},
   "source": [
    "**8) Generate the barchart on the newly created bins.**"
   ]
  },
  {
   "cell_type": "code",
   "execution_count": 52,
   "metadata": {},
   "outputs": [
    {
     "data": {
      "text/plain": [
       "<AxesSubplot:xlabel='no_of_cases', ylabel='count'>"
      ]
     },
     "execution_count": 52,
     "metadata": {},
     "output_type": "execute_result"
    },
    {
     "data": {
      "image/png": "[encoded data removed]",
      "text/plain": [
       "<Figure size 432x288 with 1 Axes>"
      ]
     },
     "metadata": {
      "needs_background": "light"
     },
     "output_type": "display_data"
    }
   ],
   "source": [
    "sns.countplot(property['no_of_cases'])"
   ]
  },
  {
   "cell_type": "code",
   "execution_count": 24,
   "metadata": {},
   "outputs": [
    {
     "name": "stderr",
     "output_type": "stream",
     "text": [
      "/Users/jisunan/opt/anaconda3/lib/python3.8/site-packages/seaborn/_decorators.py:36: FutureWarning: Pass the following variable as a keyword arg: x. From version 0.12, the only valid positional argument will be `data`, and passing other arguments without an explicit keyword will result in an error or misinterpretation.\n",
      "  warnings.warn(\n"
     ]
    },
    {
     "data": {
      "text/plain": [
       "<AxesSubplot:xlabel='no_cases_bins', ylabel='count'>"
      ]
     },
     "execution_count": 24,
     "metadata": {},
     "output_type": "execute_result"
    },
    {
     "data": {
      "image/png": "[encoded data removed]",
      "text/plain": [
       "<Figure size 432x288 with 1 Axes>"
      ]
     },
     "metadata": {
      "needs_background": "light"
     },
     "output_type": "display_data"
    }
   ],
   "source": []
  },
  {
   "cell_type": "code",
   "execution_count": null,
   "metadata": {},
   "outputs": [],
   "source": []
  },
  {
   "cell_type": "markdown",
   "metadata": {},
   "source": [
    "**9) For each bin, display the average for the collected property tax.**"
   ]
  },
  {
   "cell_type": "code",
   "execution_count": 67,
   "metadata": {},
   "outputs": [
    {
     "data": {
      "text/plain": [
       "no_of_cases\n",
       "small       216.000000\n",
       "medium     7883.785714\n",
       "large     38174.875000\n",
       "Name: property_tax_collection, dtype: float64"
      ]
     },
     "execution_count": 67,
     "metadata": {},
     "output_type": "execute_result"
    }
   ],
   "source": [
    "property.groupby('no_of_cases').mean()['property_tax_collection']"
   ]
  },
  {
   "cell_type": "code",
   "execution_count": 17,
   "metadata": {},
   "outputs": [
    {
     "data": {
      "text/plain": [
       "no_cases_bins\n",
       "small       216.000000\n",
       "medium     7883.785714\n",
       "large     38174.875000\n",
       "Name: property_tax_collection, dtype: float64"
      ]
     },
     "execution_count": 17,
     "metadata": {},
     "output_type": "execute_result"
    }
   ],
   "source": []
  },
  {
   "cell_type": "code",
   "execution_count": null,
   "metadata": {},
   "outputs": [],
   "source": []
  },
  {
   "cell_type": "code",
   "execution_count": null,
   "metadata": {},
   "outputs": [],
   "source": []
  }
 ],
 "metadata": {
  "kernelspec": {
   "display_name": "Python 3",
   "language": "python",
   "name": "python3"
  },
  "language_info": {
   "codemirror_mode": {
    "name": "ipython",
    "version": 3
   },
   "file_extension": ".py",
   "mimetype": "text/x-python",
   "name": "python",
   "nbconvert_exporter": "python",
   "pygments_lexer": "ipython3",
   "version": "3.8.8"
  },
  "toc": {
   "base_numbering": 1,
   "nav_menu": {},
   "number_sections": true,
   "sideBar": true,
   "skip_h1_title": false,
   "title_cell": "Table of Contents",
   "title_sidebar": "Contents",
   "toc_cell": false,
   "toc_position": {},
   "toc_section_display": true,
   "toc_window_display": false
  },
  "varInspector": {
   "cols": {
    "lenName": 16,
    "lenType": 16,
    "lenVar": 40
   },
   "kernels_config": {
    "python": {
     "delete_cmd_postfix": "",
     "delete_cmd_prefix": "del ",
     "library": "var_list.py",
     "varRefreshCmd": "print(var_dic_list())"
    },
    "r": {
     "delete_cmd_postfix": ") ",
     "delete_cmd_prefix": "rm(",
     "library": "var_list.r",
     "varRefreshCmd": "cat(var_dic_list()) "
    }
   },
   "types_to_exclude": [
    "module",
    "function",
    "builtin_function_or_method",
    "instance",
    "_Feature"
   ],
   "window_display": false
  }
 },
 "nbformat": 4,
 "nbformat_minor": 2
}
